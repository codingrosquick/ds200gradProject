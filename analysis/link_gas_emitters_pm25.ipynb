{
 "cells": [
  {
   "cell_type": "markdown",
   "metadata": {},
   "source": [
    "# Correlation facility emitting pollutants and PM25/AQI levels"
   ]
  },
  {
   "cell_type": "code",
   "execution_count": 69,
   "metadata": {},
   "outputs": [],
   "source": [
    "import matplotlib.pyplot as plt\n",
    "import numpy as np\n",
    "import pandas as pd\n",
    "import plotly.express as px\n",
    "import seaborn as sns\n",
    "import scipy as sc\n",
    "\n",
    "plt.style.use('fivethirtyeight') # Use plt.style.available to see more styles\n",
    "sns.set()\n",
    "sns.set_context(\"talk\")\n",
    "%matplotlib inline"
   ]
  },
  {
   "cell_type": "markdown",
   "metadata": {},
   "source": [
    "We will be using data from gas emitter data. We will link this to the AQI and PM2.5 levels.\n",
    "\n",
    "The grannularity of the data is by county. The time cxonsidered is 2020, when the data has been collected."
   ]
  },
  {
   "cell_type": "markdown",
   "metadata": {},
   "source": [
    "# Data Extraction from gas emitter types"
   ]
  },
  {
   "cell_type": "markdown",
   "metadata": {},
   "source": [
    "## Importing data"
   ]
  },
  {
   "cell_type": "markdown",
   "metadata": {},
   "source": [
    "We are using: ```./raw/data/us_greenhouse_gas_emission_direct_emitter_gas_type.csv```"
   ]
  },
  {
   "cell_type": "code",
   "execution_count": 70,
   "metadata": {},
   "outputs": [],
   "source": [
    "facilities_df = pd.read_csv('./raw/data/us_greenhouse_gas_emission_direct_emitter_gas_type.csv')"
   ]
  },
  {
   "cell_type": "markdown",
   "metadata": {},
   "source": [
    "## Feature selection"
   ]
  },
  {
   "cell_type": "code",
   "execution_count": 71,
   "metadata": {},
   "outputs": [
    {
     "data": {
      "text/plain": [
       "(219928, 4)"
      ]
     },
     "execution_count": 71,
     "metadata": {},
     "output_type": "execute_result"
    }
   ],
   "source": [
    "columns_to_keep = [\n",
    "    'V_GHG_EMITTER_GAS.FACILITY_ID',\n",
    "    'V_GHG_EMITTER_GAS.GAS_CODE',\n",
    "    'V_GHG_EMITTER_GAS.CO2E_EMISSION',\n",
    "    'V_GHG_EMITTER_GAS.COUNTY_FIPS'\n",
    "    ]\n",
    "facilities_df = facilities_df.loc[:,columns_to_keep]\n",
    "facilities_df.head(5)\n",
    "facilities_df.shape"
   ]
  },
  {
   "cell_type": "code",
   "execution_count": 72,
   "metadata": {},
   "outputs": [
    {
     "data": {
      "text/plain": [
       "CH4           77410\n",
       "CO2           69076\n",
       "N2O           62494\n",
       "BIOCO2         6825\n",
       "SF6            1419\n",
       "HFC             636\n",
       "PFC             634\n",
       "Other_Full      472\n",
       "NF3             444\n",
       "Very_Short      251\n",
       "HFE             201\n",
       "Other            66\n",
       "Name: V_GHG_EMITTER_GAS.GAS_CODE, dtype: int64"
      ]
     },
     "execution_count": 72,
     "metadata": {},
     "output_type": "execute_result"
    }
   ],
   "source": [
    "facilities_df['V_GHG_EMITTER_GAS.GAS_CODE'].value_counts()\n",
    "# 'V_GHG_EMITTER_GAS.GAS_NAME' doesn't provide additionnal classes and explanations\n"
   ]
  },
  {
   "cell_type": "code",
   "execution_count": 73,
   "metadata": {},
   "outputs": [],
   "source": [
    "def get_metrics_for_1_gas(facilities, gas_code: str):\n",
    "    facilities_gas = facilities[facilities['V_GHG_EMITTER_GAS.GAS_CODE'] == gas_code]\n",
    "\n",
    "    def get_metrics(x):\n",
    "        return (x.mean(), x.max(), len(x))\n",
    "\n",
    "    facilities_by_county = facilities_gas.groupby('V_GHG_EMITTER_GAS.COUNTY_FIPS').agg(get_metrics)\n",
    "\n",
    "    facilities_by_county[f'{gas_code}_mean'] = facilities_by_county['V_GHG_EMITTER_GAS.CO2E_EMISSION'].apply(lambda x: x[0])\n",
    "    facilities_by_county[f'{gas_code}_max'] = facilities_by_county['V_GHG_EMITTER_GAS.CO2E_EMISSION'].apply(lambda x: x[1])\n",
    "    facilities_by_county[f'{gas_code}_count'] = facilities_by_county['V_GHG_EMITTER_GAS.CO2E_EMISSION'].apply(lambda x: x[2])\n",
    "    facilities_by_county = facilities_by_county.drop('V_GHG_EMITTER_GAS.CO2E_EMISSION', axis=1)\n",
    "    facilities_by_county = facilities_by_county.drop('V_GHG_EMITTER_GAS.FACILITY_ID', axis=1)\n",
    "\n",
    "    return facilities_by_county\n",
    "    # size = facilities_gas.shape[0]\n",
    "    # trouver moyen de prendre max, count, mean depuis le co2eq\n",
    "\n",
    "def join_all_metrics(facilities):\n",
    "    gas_types = facilities['V_GHG_EMITTER_GAS.GAS_CODE'].unique()\n",
    "    print(gas_types)\n",
    "\n",
    "    facilities_metrics = [get_metrics_for_1_gas(facilities, gas_code) for gas_code in gas_types]\n",
    "    \n",
    "    facilities = facilities_metrics[0].copy()\n",
    "    for i in range(1,len(facilities_metrics)):\n",
    "        facilities = facilities.join(facilities_metrics[i], on='V_GHG_EMITTER_GAS.COUNTY_FIPS', how='left')\n",
    "\n",
    "    return facilities\n",
    "\n",
    "# PLOT HEATMAP OF NAN\n",
    "# Source: https://gist.github.com/NadimKawwa/98e42c26401db0dffde95fe4ddbea67e\n",
    "\n",
    "def plot_nan_heatmap(df):\n",
    "    #set figure size\n",
    "    # plt.figure(figsize=(10,10))\n",
    "    plt.figure()\n",
    "\n",
    "    #generate heatmap\n",
    "    sns.heatmap(df.isnull(), cbar=False)\n",
    "\n",
    "    #labels and titles\n",
    "    plt.title(f\"NaN heatmap\")\n",
    "    #plt.yticks(np.arange(0, df.shape[0], 500))\n",
    "    plt.xlabel(\"Column Index/Feature Space\")\n",
    "    plt.ylabel(\"Row Index/Observations\")\n",
    "\n",
    "    plt.show()\n"
   ]
  },
  {
   "cell_type": "code",
   "execution_count": 74,
   "metadata": {},
   "outputs": [
    {
     "name": "stdout",
     "output_type": "stream",
     "text": [
      "['BIOCO2' 'CH4' 'N2O' 'CO2' 'SF6' 'Other_Full' 'PFC' 'HFC' 'Very_Short'\n",
      " 'HFE' 'NF3' 'Other']\n"
     ]
    },
    {
     "name": "stderr",
     "output_type": "stream",
     "text": [
      "/usr/local/lib/python3.9/site-packages/pandas/core/groupby/generic.py:303: FutureWarning: Dropping invalid columns in SeriesGroupBy.agg is deprecated. In a future version, a TypeError will be raised. Before calling .agg, select only columns which should be valid for the aggregating function.\n",
      "  results[key] = self.aggregate(func)\n"
     ]
    },
    {
     "name": "stdout",
     "output_type": "stream",
     "text": [
      "                                BIOCO2_mean  BIOCO2_max  BIOCO2_count  \\\n",
      "V_GHG_EMITTER_GAS.COUNTY_FIPS                                           \n",
      "1001.0                         1.596640e+06   1683572.3            10   \n",
      "1015.0                         4.100000e+00         4.1             1   \n",
      "1023.0                         1.013726e+06   1126386.1            10   \n",
      "1025.0                         7.011927e+05    749337.7            10   \n",
      "1043.0                         2.343150e+03      4562.5             8   \n",
      "...                                     ...         ...           ...   \n",
      "56003.0                        2.041750e+03      4075.0             2   \n",
      "56005.0                        1.205660e+03      3148.1             5   \n",
      "72013.0                        1.598667e+02       230.2             3   \n",
      "72053.0                        3.759850e+03      5018.8             4   \n",
      "72137.0                        5.591467e+03      6707.8             3   \n",
      "\n",
      "                                   CH4_mean     CH4_max  CH4_count  \\\n",
      "V_GHG_EMITTER_GAS.COUNTY_FIPS                                        \n",
      "1001.0                         13196.663793   49504.500         58   \n",
      "1015.0                          4402.443249   78775.825         50   \n",
      "1023.0                         29655.572368  117301.750         38   \n",
      "1025.0                          3130.087838   14424.750         37   \n",
      "1043.0                         19974.480000   60614.250         25   \n",
      "...                                     ...         ...        ...   \n",
      "56003.0                           49.258621     129.750         29   \n",
      "56005.0                         3729.319018   32741.500        163   \n",
      "72013.0                        83908.400000  939470.750         20   \n",
      "72053.0                        53820.775000   78551.000         10   \n",
      "72137.0                        73926.887500  190269.500         20   \n",
      "\n",
      "                                  N2O_mean    N2O_max  N2O_count  \\\n",
      "V_GHG_EMITTER_GAS.COUNTY_FIPS                                      \n",
      "1001.0                         3516.049850  24355.540       40.0   \n",
      "1015.0                           33.526714    123.670       48.0   \n",
      "1023.0                         2797.387655  18100.520       29.0   \n",
      "1025.0                         5168.035200  10684.194       10.0   \n",
      "1043.0                           56.262400     63.474       10.0   \n",
      "...                                    ...        ...        ...   \n",
      "56003.0                          80.203103    225.288       29.0   \n",
      "56005.0                        2694.304994  16440.958      161.0   \n",
      "72013.0                         170.027625    436.868       16.0   \n",
      "72053.0                          11.204800     18.178        5.0   \n",
      "72137.0                        2276.422000   6611.428       16.0   \n",
      "\n",
      "                                   CO2_mean  ...  Very_Short_count  HFE_mean  \\\n",
      "V_GHG_EMITTER_GAS.COUNTY_FIPS                ...                               \n",
      "1001.0                         1.278896e+06  ...               NaN       NaN   \n",
      "1015.0                         3.576015e+04  ...               NaN       NaN   \n",
      "1023.0                         1.911554e+05  ...               NaN       NaN   \n",
      "1025.0                         9.490403e+04  ...               NaN       NaN   \n",
      "1043.0                         7.122501e+04  ...               NaN       NaN   \n",
      "...                                     ...  ...               ...       ...   \n",
      "56003.0                        3.731217e+04  ...               NaN       NaN   \n",
      "56005.0                        5.476254e+05  ...               NaN       NaN   \n",
      "72013.0                        5.631101e+04  ...               NaN       NaN   \n",
      "72053.0                        8.218000e+01  ...               NaN       NaN   \n",
      "72137.0                        7.894604e+05  ...               NaN       NaN   \n",
      "\n",
      "                               HFE_max  HFE_count  NF3_mean  NF3_max  \\\n",
      "V_GHG_EMITTER_GAS.COUNTY_FIPS                                          \n",
      "1001.0                             NaN        NaN       NaN      NaN   \n",
      "1015.0                             NaN        NaN       NaN      NaN   \n",
      "1023.0                             NaN        NaN       NaN      NaN   \n",
      "1025.0                             NaN        NaN       NaN      NaN   \n",
      "1043.0                             NaN        NaN       NaN      NaN   \n",
      "...                                ...        ...       ...      ...   \n",
      "56003.0                            NaN        NaN       NaN      NaN   \n",
      "56005.0                            NaN        NaN       NaN      NaN   \n",
      "72013.0                            NaN        NaN       NaN      NaN   \n",
      "72053.0                            NaN        NaN       NaN      NaN   \n",
      "72137.0                            NaN        NaN       NaN      NaN   \n",
      "\n",
      "                               NF3_count  Other_mean  Other_max  Other_count  \n",
      "V_GHG_EMITTER_GAS.COUNTY_FIPS                                                 \n",
      "1001.0                               NaN         NaN        NaN          NaN  \n",
      "1015.0                               NaN         NaN        NaN          NaN  \n",
      "1023.0                               NaN         NaN        NaN          NaN  \n",
      "1025.0                               NaN         NaN        NaN          NaN  \n",
      "1043.0                               NaN         NaN        NaN          NaN  \n",
      "...                                  ...         ...        ...          ...  \n",
      "56003.0                              NaN         NaN        NaN          NaN  \n",
      "56005.0                              NaN         NaN        NaN          NaN  \n",
      "72013.0                              NaN         NaN        NaN          NaN  \n",
      "72053.0                              NaN         NaN        NaN          NaN  \n",
      "72137.0                              NaN         NaN        NaN          NaN  \n",
      "\n",
      "[746 rows x 36 columns]\n"
     ]
    }
   ],
   "source": [
    "# with_metrics_ch4 = get_metrics_for_1_gas(facilities=facilities_df, gas_code='CH4')\n",
    "# print(with_metrics_ch4.head(10))\n",
    "\n",
    "fac = join_all_metrics(facilities=facilities_df)\n",
    "print(fac)"
   ]
  },
  {
   "cell_type": "markdown",
   "metadata": {},
   "source": [
    "## Data cleaning"
   ]
  },
  {
   "cell_type": "code",
   "execution_count": 75,
   "metadata": {},
   "outputs": [
    {
     "data": {
      "image/png": "[encoded data removed]",
      "text/plain": [
       "<Figure size 432x288 with 1 Axes>"
      ]
     },
     "metadata": {
      "needs_background": "light"
     },
     "output_type": "display_data"
    }
   ],
   "source": [
    "plot_nan_heatmap(fac)"
   ]
  },
  {
   "cell_type": "markdown",
   "metadata": {},
   "source": [
    "To continue the cleaning, we will replace NaN columns by zeros. It makes sense as the companies not measuring specific types of gas emitted by the industry do this as they don't use those chemicals. For instance, a plant not using any product leading to PFC pollution doesn't need to track their emission related to this, as it would be 0."
   ]
  },
  {
   "cell_type": "code",
   "execution_count": 76,
   "metadata": {},
   "outputs": [
    {
     "data": {
      "image/png": "[encoded data removed]",
      "text/plain": [
       "<Figure size 432x288 with 1 Axes>"
      ]
     },
     "metadata": {
      "needs_background": "light"
     },
     "output_type": "display_data"
    },
    {
     "name": "stdout",
     "output_type": "stream",
     "text": [
      "(746, 36)\n",
      "Index(['BIOCO2_mean', 'BIOCO2_max', 'BIOCO2_count', 'CH4_mean', 'CH4_max',\n",
      "       'CH4_count', 'N2O_mean', 'N2O_max', 'N2O_count', 'CO2_mean', 'CO2_max',\n",
      "       'CO2_count', 'SF6_mean', 'SF6_max', 'SF6_count', 'Other_Full_mean',\n",
      "       'Other_Full_max', 'Other_Full_count', 'PFC_mean', 'PFC_max',\n",
      "       'PFC_count', 'HFC_mean', 'HFC_max', 'HFC_count', 'Very_Short_mean',\n",
      "       'Very_Short_max', 'Very_Short_count', 'HFE_mean', 'HFE_max',\n",
      "       'HFE_count', 'NF3_mean', 'NF3_max', 'NF3_count', 'Other_mean',\n",
      "       'Other_max', 'Other_count'],\n",
      "      dtype='object')\n",
      "V_GHG_EMITTER_GAS.COUNTY_FIPS\n"
     ]
    }
   ],
   "source": [
    "fac = fac.fillna(0)\n",
    "plot_nan_heatmap(fac)\n",
    "print(fac.shape)\n",
    "print(fac.columns)\n",
    "print(fac.index.name)"
   ]
  },
  {
   "cell_type": "markdown",
   "metadata": {},
   "source": [
    "# Data Extraction from pm25 and AQI level, county-wise"
   ]
  },
  {
   "cell_type": "markdown",
   "metadata": {},
   "source": [
    "To compare the industry activity to PM2.5 levels, we use WHO's data on daily PM2.5 levels. This dataset gives all the concentrations in PM2.5 over the country from 2001 to 2016.\n",
    "\n",
    "There is one issue though, as these data relates to 2016 data. We will try to match them. This can make sense, as industry and factory take a long amount of time to become operational and stay like this for a long time.\n",
    "\n",
    "The source of the data is from: https://data.cdc.gov/Environmental-Health-Toxicology/Daily-PM2-5-Concentrations-All-County-2001-2016/7vdq-ztk9\n"
   ]
  },
  {
   "cell_type": "markdown",
   "metadata": {},
   "source": [
    "## Importing Data"
   ]
  },
  {
   "cell_type": "code",
   "execution_count": 105,
   "metadata": {},
   "outputs": [
    {
     "name": "stdout",
     "output_type": "stream",
     "text": [
      "Index(['year', 'date', 'statefips', 'countyfips', 'PM25_max_pred',\n",
      "       'PM25_med_pred', 'PM25_mean_pred', 'PM25_pop_pred'],\n",
      "      dtype='object')\n"
     ]
    },
    {
     "data": {
      "text/html": [
       "<div>\n",
       "<style scoped>\n",
       "    .dataframe tbody tr th:only-of-type {\n",
       "        vertical-align: middle;\n",
       "    }\n",
       "\n",
       "    .dataframe tbody tr th {\n",
       "        vertical-align: top;\n",
       "    }\n",
       "\n",
       "    .dataframe thead th {\n",
       "        text-align: right;\n",
       "    }\n",
       "</style>\n",
       "<table border=\"1\" class=\"dataframe\">\n",
       "  <thead>\n",
       "    <tr style=\"text-align: right;\">\n",
       "      <th></th>\n",
       "      <th>year</th>\n",
       "      <th>date</th>\n",
       "      <th>statefips</th>\n",
       "      <th>countyfips</th>\n",
       "      <th>PM25_max_pred</th>\n",
       "      <th>PM25_med_pred</th>\n",
       "      <th>PM25_mean_pred</th>\n",
       "      <th>PM25_pop_pred</th>\n",
       "    </tr>\n",
       "  </thead>\n",
       "  <tbody>\n",
       "    <tr>\n",
       "      <th>0</th>\n",
       "      <td>2001</td>\n",
       "      <td>01JAN2001</td>\n",
       "      <td>1</td>\n",
       "      <td>1</td>\n",
       "      <td>10.664367</td>\n",
       "      <td>10.264546</td>\n",
       "      <td>10.137631</td>\n",
       "      <td>10.188703</td>\n",
       "    </tr>\n",
       "    <tr>\n",
       "      <th>1</th>\n",
       "      <td>2001</td>\n",
       "      <td>01JAN2001</td>\n",
       "      <td>1</td>\n",
       "      <td>3</td>\n",
       "      <td>9.803209</td>\n",
       "      <td>8.739505</td>\n",
       "      <td>8.743748</td>\n",
       "      <td>8.811486</td>\n",
       "    </tr>\n",
       "    <tr>\n",
       "      <th>2</th>\n",
       "      <td>2001</td>\n",
       "      <td>01JAN2001</td>\n",
       "      <td>1</td>\n",
       "      <td>5</td>\n",
       "      <td>12.087599</td>\n",
       "      <td>11.809159</td>\n",
       "      <td>11.812775</td>\n",
       "      <td>11.802062</td>\n",
       "    </tr>\n",
       "    <tr>\n",
       "      <th>3</th>\n",
       "      <td>2001</td>\n",
       "      <td>01JAN2001</td>\n",
       "      <td>1</td>\n",
       "      <td>7</td>\n",
       "      <td>8.579425</td>\n",
       "      <td>8.435394</td>\n",
       "      <td>8.458118</td>\n",
       "      <td>8.448871</td>\n",
       "    </tr>\n",
       "    <tr>\n",
       "      <th>4</th>\n",
       "      <td>2001</td>\n",
       "      <td>01JAN2001</td>\n",
       "      <td>1</td>\n",
       "      <td>9</td>\n",
       "      <td>14.399446</td>\n",
       "      <td>13.577741</td>\n",
       "      <td>13.300528</td>\n",
       "      <td>13.231461</td>\n",
       "    </tr>\n",
       "  </tbody>\n",
       "</table>\n",
       "</div>"
      ],
      "text/plain": [
       "   year       date  statefips  countyfips  PM25_max_pred  PM25_med_pred  \\\n",
       "0  2001  01JAN2001          1           1      10.664367      10.264546   \n",
       "1  2001  01JAN2001          1           3       9.803209       8.739505   \n",
       "2  2001  01JAN2001          1           5      12.087599      11.809159   \n",
       "3  2001  01JAN2001          1           7       8.579425       8.435394   \n",
       "4  2001  01JAN2001          1           9      14.399446      13.577741   \n",
       "\n",
       "   PM25_mean_pred  PM25_pop_pred  \n",
       "0       10.137631      10.188703  \n",
       "1        8.743748       8.811486  \n",
       "2       11.812775      11.802062  \n",
       "3        8.458118       8.448871  \n",
       "4       13.300528      13.231461  "
      ]
     },
     "metadata": {},
     "output_type": "display_data"
    }
   ],
   "source": [
    "daily_pm25_concentrations = pd.read_csv('./raw/data/Daily_PM2.5_Concentrations_All_County__2001-2016.csv')\n",
    "print(daily_pm25_concentrations.columns)\n",
    "display(daily_pm25_concentrations.head(5))"
   ]
  },
  {
   "cell_type": "code",
   "execution_count": 106,
   "metadata": {},
   "outputs": [
    {
     "data": {
      "text/html": [
       "<div>\n",
       "<style scoped>\n",
       "    .dataframe tbody tr th:only-of-type {\n",
       "        vertical-align: middle;\n",
       "    }\n",
       "\n",
       "    .dataframe tbody tr th {\n",
       "        vertical-align: top;\n",
       "    }\n",
       "\n",
       "    .dataframe thead th {\n",
       "        text-align: right;\n",
       "    }\n",
       "</style>\n",
       "<table border=\"1\" class=\"dataframe\">\n",
       "  <thead>\n",
       "    <tr style=\"text-align: right;\">\n",
       "      <th></th>\n",
       "      <th>year</th>\n",
       "      <th>statefips</th>\n",
       "      <th>countyfips</th>\n",
       "      <th>PM25_max_pred</th>\n",
       "      <th>PM25_med_pred</th>\n",
       "      <th>PM25_mean_pred</th>\n",
       "      <th>PM25_pop_pred</th>\n",
       "    </tr>\n",
       "  </thead>\n",
       "  <tbody>\n",
       "    <tr>\n",
       "      <th>count</th>\n",
       "      <td>1.816900e+07</td>\n",
       "      <td>1.816900e+07</td>\n",
       "      <td>1.816900e+07</td>\n",
       "      <td>1.816900e+07</td>\n",
       "      <td>1.816900e+07</td>\n",
       "      <td>1.816900e+07</td>\n",
       "      <td>1.816900e+07</td>\n",
       "    </tr>\n",
       "    <tr>\n",
       "      <th>mean</th>\n",
       "      <td>2.008501e+03</td>\n",
       "      <td>3.057510e+01</td>\n",
       "      <td>1.034374e+02</td>\n",
       "      <td>1.004194e+01</td>\n",
       "      <td>9.623689e+00</td>\n",
       "      <td>9.609705e+00</td>\n",
       "      <td>9.615355e+00</td>\n",
       "    </tr>\n",
       "    <tr>\n",
       "      <th>std</th>\n",
       "      <td>4.609846e+00</td>\n",
       "      <td>1.496420e+01</td>\n",
       "      <td>1.080642e+02</td>\n",
       "      <td>5.472293e+00</td>\n",
       "      <td>5.186734e+00</td>\n",
       "      <td>5.172078e+00</td>\n",
       "      <td>5.173289e+00</td>\n",
       "    </tr>\n",
       "    <tr>\n",
       "      <th>min</th>\n",
       "      <td>2.001000e+03</td>\n",
       "      <td>1.000000e+00</td>\n",
       "      <td>1.000000e+00</td>\n",
       "      <td>6.982100e-02</td>\n",
       "      <td>6.982100e-02</td>\n",
       "      <td>6.982100e-02</td>\n",
       "      <td>6.982100e-02</td>\n",
       "    </tr>\n",
       "    <tr>\n",
       "      <th>25%</th>\n",
       "      <td>2.004750e+03</td>\n",
       "      <td>1.900000e+01</td>\n",
       "      <td>3.500000e+01</td>\n",
       "      <td>6.319216e+00</td>\n",
       "      <td>6.071293e+00</td>\n",
       "      <td>6.063907e+00</td>\n",
       "      <td>6.068806e+00</td>\n",
       "    </tr>\n",
       "    <tr>\n",
       "      <th>50%</th>\n",
       "      <td>2.008500e+03</td>\n",
       "      <td>2.900000e+01</td>\n",
       "      <td>7.900000e+01</td>\n",
       "      <td>8.826722e+00</td>\n",
       "      <td>8.485531e+00</td>\n",
       "      <td>8.475155e+00</td>\n",
       "      <td>8.480602e+00</td>\n",
       "    </tr>\n",
       "    <tr>\n",
       "      <th>75%</th>\n",
       "      <td>2.012250e+03</td>\n",
       "      <td>4.600000e+01</td>\n",
       "      <td>1.330000e+02</td>\n",
       "      <td>1.239479e+01</td>\n",
       "      <td>1.189990e+01</td>\n",
       "      <td>1.188481e+01</td>\n",
       "      <td>1.189112e+01</td>\n",
       "    </tr>\n",
       "    <tr>\n",
       "      <th>max</th>\n",
       "      <td>2.016000e+03</td>\n",
       "      <td>5.600000e+01</td>\n",
       "      <td>8.400000e+02</td>\n",
       "      <td>4.915291e+02</td>\n",
       "      <td>3.352757e+02</td>\n",
       "      <td>3.852261e+02</td>\n",
       "      <td>3.826642e+02</td>\n",
       "    </tr>\n",
       "  </tbody>\n",
       "</table>\n",
       "</div>"
      ],
      "text/plain": [
       "               year     statefips    countyfips  PM25_max_pred  PM25_med_pred  \\\n",
       "count  1.816900e+07  1.816900e+07  1.816900e+07   1.816900e+07   1.816900e+07   \n",
       "mean   2.008501e+03  3.057510e+01  1.034374e+02   1.004194e+01   9.623689e+00   \n",
       "std    4.609846e+00  1.496420e+01  1.080642e+02   5.472293e+00   5.186734e+00   \n",
       "min    2.001000e+03  1.000000e+00  1.000000e+00   6.982100e-02   6.982100e-02   \n",
       "25%    2.004750e+03  1.900000e+01  3.500000e+01   6.319216e+00   6.071293e+00   \n",
       "50%    2.008500e+03  2.900000e+01  7.900000e+01   8.826722e+00   8.485531e+00   \n",
       "75%    2.012250e+03  4.600000e+01  1.330000e+02   1.239479e+01   1.189990e+01   \n",
       "max    2.016000e+03  5.600000e+01  8.400000e+02   4.915291e+02   3.352757e+02   \n",
       "\n",
       "       PM25_mean_pred  PM25_pop_pred  \n",
       "count    1.816900e+07   1.816900e+07  \n",
       "mean     9.609705e+00   9.615355e+00  \n",
       "std      5.172078e+00   5.173289e+00  \n",
       "min      6.982100e-02   6.982100e-02  \n",
       "25%      6.063907e+00   6.068806e+00  \n",
       "50%      8.475155e+00   8.480602e+00  \n",
       "75%      1.188481e+01   1.189112e+01  \n",
       "max      3.852261e+02   3.826642e+02  "
      ]
     },
     "metadata": {},
     "output_type": "display_data"
    }
   ],
   "source": [
    "display(daily_pm25_concentrations.describe())"
   ]
  },
  {
   "cell_type": "markdown",
   "metadata": {},
   "source": [
    "## Feature Engineering and Selection\n",
    "\n",
    "### Adding readable County Fips\n",
    "\n",
    "The national county fips differs from the data we have here. We need to concatenate statefips and countyfips (here related to the state fips) to get the national fips as in the greenhouse gas emissions direct polluters datasets."
   ]
  },
  {
   "cell_type": "code",
   "execution_count": 107,
   "metadata": {},
   "outputs": [
    {
     "name": "stdout",
     "output_type": "stream",
     "text": [
      "int64 int64\n"
     ]
    }
   ],
   "source": [
    "print(daily_pm25_concentrations['statefips'].dtype, daily_pm25_concentrations['countyfips'].dtype)"
   ]
  },
  {
   "cell_type": "code",
   "execution_count": 108,
   "metadata": {},
   "outputs": [
    {
     "name": "stdout",
     "output_type": "stream",
     "text": [
      "01012\n"
     ]
    }
   ],
   "source": [
    "def get_national_county_fips(statefips: int, countyfips: int):\n",
    "    state = str(statefips)\n",
    "    county = str(countyfips)\n",
    "    if len(state) < 2:\n",
    "        nb_zeros_state = 2 - len(state)\n",
    "        state = '0' * nb_zeros_state + state\n",
    "    if len(county) < 3:\n",
    "        nb_zeros_county = 3 - len(county)\n",
    "        county = '0' * nb_zeros_county + county\n",
    "    return state + county\n",
    "\n",
    "# Quick check of the function's vailidity\n",
    "print(get_national_county_fips(1, 12))"
   ]
  },
  {
   "cell_type": "code",
   "execution_count": 109,
   "metadata": {},
   "outputs": [
    {
     "data": {
      "text/html": [
       "<div>\n",
       "<style scoped>\n",
       "    .dataframe tbody tr th:only-of-type {\n",
       "        vertical-align: middle;\n",
       "    }\n",
       "\n",
       "    .dataframe tbody tr th {\n",
       "        vertical-align: top;\n",
       "    }\n",
       "\n",
       "    .dataframe thead th {\n",
       "        text-align: right;\n",
       "    }\n",
       "</style>\n",
       "<table border=\"1\" class=\"dataframe\">\n",
       "  <thead>\n",
       "    <tr style=\"text-align: right;\">\n",
       "      <th></th>\n",
       "      <th>year</th>\n",
       "      <th>date</th>\n",
       "      <th>statefips</th>\n",
       "      <th>countyfips</th>\n",
       "      <th>PM25_max_pred</th>\n",
       "      <th>PM25_med_pred</th>\n",
       "      <th>PM25_mean_pred</th>\n",
       "      <th>PM25_pop_pred</th>\n",
       "      <th>COUNTY_FIPS</th>\n",
       "    </tr>\n",
       "  </thead>\n",
       "  <tbody>\n",
       "    <tr>\n",
       "      <th>0</th>\n",
       "      <td>2001</td>\n",
       "      <td>01JAN2001</td>\n",
       "      <td>1</td>\n",
       "      <td>1</td>\n",
       "      <td>10.664367</td>\n",
       "      <td>10.264546</td>\n",
       "      <td>10.137631</td>\n",
       "      <td>10.188703</td>\n",
       "      <td>01001</td>\n",
       "    </tr>\n",
       "    <tr>\n",
       "      <th>1</th>\n",
       "      <td>2001</td>\n",
       "      <td>01JAN2001</td>\n",
       "      <td>1</td>\n",
       "      <td>3</td>\n",
       "      <td>9.803209</td>\n",
       "      <td>8.739505</td>\n",
       "      <td>8.743748</td>\n",
       "      <td>8.811486</td>\n",
       "      <td>01003</td>\n",
       "    </tr>\n",
       "    <tr>\n",
       "      <th>2</th>\n",
       "      <td>2001</td>\n",
       "      <td>01JAN2001</td>\n",
       "      <td>1</td>\n",
       "      <td>5</td>\n",
       "      <td>12.087599</td>\n",
       "      <td>11.809159</td>\n",
       "      <td>11.812775</td>\n",
       "      <td>11.802062</td>\n",
       "      <td>01005</td>\n",
       "    </tr>\n",
       "    <tr>\n",
       "      <th>3</th>\n",
       "      <td>2001</td>\n",
       "      <td>01JAN2001</td>\n",
       "      <td>1</td>\n",
       "      <td>7</td>\n",
       "      <td>8.579425</td>\n",
       "      <td>8.435394</td>\n",
       "      <td>8.458118</td>\n",
       "      <td>8.448871</td>\n",
       "      <td>01007</td>\n",
       "    </tr>\n",
       "    <tr>\n",
       "      <th>4</th>\n",
       "      <td>2001</td>\n",
       "      <td>01JAN2001</td>\n",
       "      <td>1</td>\n",
       "      <td>9</td>\n",
       "      <td>14.399446</td>\n",
       "      <td>13.577741</td>\n",
       "      <td>13.300528</td>\n",
       "      <td>13.231461</td>\n",
       "      <td>01009</td>\n",
       "    </tr>\n",
       "    <tr>\n",
       "      <th>5</th>\n",
       "      <td>2001</td>\n",
       "      <td>01JAN2001</td>\n",
       "      <td>1</td>\n",
       "      <td>11</td>\n",
       "      <td>11.853907</td>\n",
       "      <td>11.824247</td>\n",
       "      <td>11.728350</td>\n",
       "      <td>11.774401</td>\n",
       "      <td>01011</td>\n",
       "    </tr>\n",
       "    <tr>\n",
       "      <th>6</th>\n",
       "      <td>2001</td>\n",
       "      <td>01JAN2001</td>\n",
       "      <td>1</td>\n",
       "      <td>13</td>\n",
       "      <td>9.864360</td>\n",
       "      <td>9.464236</td>\n",
       "      <td>9.338488</td>\n",
       "      <td>9.396299</td>\n",
       "      <td>01013</td>\n",
       "    </tr>\n",
       "    <tr>\n",
       "      <th>7</th>\n",
       "      <td>2001</td>\n",
       "      <td>01JAN2001</td>\n",
       "      <td>1</td>\n",
       "      <td>15</td>\n",
       "      <td>11.709136</td>\n",
       "      <td>11.213704</td>\n",
       "      <td>11.052942</td>\n",
       "      <td>11.008113</td>\n",
       "      <td>01015</td>\n",
       "    </tr>\n",
       "    <tr>\n",
       "      <th>8</th>\n",
       "      <td>2001</td>\n",
       "      <td>01JAN2001</td>\n",
       "      <td>1</td>\n",
       "      <td>17</td>\n",
       "      <td>11.313949</td>\n",
       "      <td>11.085331</td>\n",
       "      <td>11.004896</td>\n",
       "      <td>10.989000</td>\n",
       "      <td>01017</td>\n",
       "    </tr>\n",
       "    <tr>\n",
       "      <th>9</th>\n",
       "      <td>2001</td>\n",
       "      <td>01JAN2001</td>\n",
       "      <td>1</td>\n",
       "      <td>19</td>\n",
       "      <td>10.446544</td>\n",
       "      <td>8.686511</td>\n",
       "      <td>8.819224</td>\n",
       "      <td>8.922392</td>\n",
       "      <td>01019</td>\n",
       "    </tr>\n",
       "  </tbody>\n",
       "</table>\n",
       "</div>"
      ],
      "text/plain": [
       "   year       date  statefips  countyfips  PM25_max_pred  PM25_med_pred  \\\n",
       "0  2001  01JAN2001          1           1      10.664367      10.264546   \n",
       "1  2001  01JAN2001          1           3       9.803209       8.739505   \n",
       "2  2001  01JAN2001          1           5      12.087599      11.809159   \n",
       "3  2001  01JAN2001          1           7       8.579425       8.435394   \n",
       "4  2001  01JAN2001          1           9      14.399446      13.577741   \n",
       "5  2001  01JAN2001          1          11      11.853907      11.824247   \n",
       "6  2001  01JAN2001          1          13       9.864360       9.464236   \n",
       "7  2001  01JAN2001          1          15      11.709136      11.213704   \n",
       "8  2001  01JAN2001          1          17      11.313949      11.085331   \n",
       "9  2001  01JAN2001          1          19      10.446544       8.686511   \n",
       "\n",
       "   PM25_mean_pred  PM25_pop_pred COUNTY_FIPS  \n",
       "0       10.137631      10.188703       01001  \n",
       "1        8.743748       8.811486       01003  \n",
       "2       11.812775      11.802062       01005  \n",
       "3        8.458118       8.448871       01007  \n",
       "4       13.300528      13.231461       01009  \n",
       "5       11.728350      11.774401       01011  \n",
       "6        9.338488       9.396299       01013  \n",
       "7       11.052942      11.008113       01015  \n",
       "8       11.004896      10.989000       01017  \n",
       "9        8.819224       8.922392       01019  "
      ]
     },
     "metadata": {},
     "output_type": "display_data"
    }
   ],
   "source": [
    "daily_pm25_concentrations['COUNTY_FIPS'] = list(map(get_national_county_fips, daily_pm25_concentrations['statefips'], daily_pm25_concentrations['countyfips']))\n",
    "display(daily_pm25_concentrations.head(10))"
   ]
  },
  {
   "cell_type": "markdown",
   "metadata": {},
   "source": [
    "The feature engineering worked, so we will drop the 2 original columns."
   ]
  },
  {
   "cell_type": "code",
   "execution_count": 110,
   "metadata": {},
   "outputs": [
    {
     "data": {
      "text/html": [
       "<div>\n",
       "<style scoped>\n",
       "    .dataframe tbody tr th:only-of-type {\n",
       "        vertical-align: middle;\n",
       "    }\n",
       "\n",
       "    .dataframe tbody tr th {\n",
       "        vertical-align: top;\n",
       "    }\n",
       "\n",
       "    .dataframe thead th {\n",
       "        text-align: right;\n",
       "    }\n",
       "</style>\n",
       "<table border=\"1\" class=\"dataframe\">\n",
       "  <thead>\n",
       "    <tr style=\"text-align: right;\">\n",
       "      <th></th>\n",
       "      <th>year</th>\n",
       "      <th>date</th>\n",
       "      <th>PM25_max_pred</th>\n",
       "      <th>PM25_med_pred</th>\n",
       "      <th>PM25_mean_pred</th>\n",
       "      <th>PM25_pop_pred</th>\n",
       "      <th>COUNTY_FIPS</th>\n",
       "    </tr>\n",
       "  </thead>\n",
       "  <tbody>\n",
       "    <tr>\n",
       "      <th>0</th>\n",
       "      <td>2001</td>\n",
       "      <td>01JAN2001</td>\n",
       "      <td>10.664367</td>\n",
       "      <td>10.264546</td>\n",
       "      <td>10.137631</td>\n",
       "      <td>10.188703</td>\n",
       "      <td>01001</td>\n",
       "    </tr>\n",
       "    <tr>\n",
       "      <th>1</th>\n",
       "      <td>2001</td>\n",
       "      <td>01JAN2001</td>\n",
       "      <td>9.803209</td>\n",
       "      <td>8.739505</td>\n",
       "      <td>8.743748</td>\n",
       "      <td>8.811486</td>\n",
       "      <td>01003</td>\n",
       "    </tr>\n",
       "    <tr>\n",
       "      <th>2</th>\n",
       "      <td>2001</td>\n",
       "      <td>01JAN2001</td>\n",
       "      <td>12.087599</td>\n",
       "      <td>11.809159</td>\n",
       "      <td>11.812775</td>\n",
       "      <td>11.802062</td>\n",
       "      <td>01005</td>\n",
       "    </tr>\n",
       "    <tr>\n",
       "      <th>3</th>\n",
       "      <td>2001</td>\n",
       "      <td>01JAN2001</td>\n",
       "      <td>8.579425</td>\n",
       "      <td>8.435394</td>\n",
       "      <td>8.458118</td>\n",
       "      <td>8.448871</td>\n",
       "      <td>01007</td>\n",
       "    </tr>\n",
       "    <tr>\n",
       "      <th>4</th>\n",
       "      <td>2001</td>\n",
       "      <td>01JAN2001</td>\n",
       "      <td>14.399446</td>\n",
       "      <td>13.577741</td>\n",
       "      <td>13.300528</td>\n",
       "      <td>13.231461</td>\n",
       "      <td>01009</td>\n",
       "    </tr>\n",
       "  </tbody>\n",
       "</table>\n",
       "</div>"
      ],
      "text/plain": [
       "   year       date  PM25_max_pred  PM25_med_pred  PM25_mean_pred  \\\n",
       "0  2001  01JAN2001      10.664367      10.264546       10.137631   \n",
       "1  2001  01JAN2001       9.803209       8.739505        8.743748   \n",
       "2  2001  01JAN2001      12.087599      11.809159       11.812775   \n",
       "3  2001  01JAN2001       8.579425       8.435394        8.458118   \n",
       "4  2001  01JAN2001      14.399446      13.577741       13.300528   \n",
       "\n",
       "   PM25_pop_pred COUNTY_FIPS  \n",
       "0      10.188703       01001  \n",
       "1       8.811486       01003  \n",
       "2      11.802062       01005  \n",
       "3       8.448871       01007  \n",
       "4      13.231461       01009  "
      ]
     },
     "metadata": {},
     "output_type": "display_data"
    }
   ],
   "source": [
    "daily_pm25_concentrations = daily_pm25_concentrations.drop(['statefips', 'countyfips'], axis=1)\n",
    "display(daily_pm25_concentrations.head(5))"
   ]
  },
  {
   "cell_type": "markdown",
   "metadata": {},
   "source": [
    "### Taking Yearly Data for recent years\n",
    "\n",
    "As the data is daily and between 2001 and 2016, we need to account only for more recent data, and aggregate it over a year.\n",
    "\n",
    "To aggregate them, we take:\n",
    "- the annual max of the daily maximum\n",
    "- the annual mean of the daily mean\n",
    "- the annual median of the daily median\n",
    "- the annual mean of the daily mean normalized by the population within the county\n",
    "\n",
    "Also, we will use yearly data, so we can drop the date from now on.\n",
    "\n",
    "For the sake of this analysis, we will limit ourselves ot the data from the 2016 year. Unfortunately, this data from WHO is not from 2020, as the gas emitter data. We will hence use the most recent data, hence 2016."
   ]
  },
  {
   "cell_type": "code",
   "execution_count": 113,
   "metadata": {},
   "outputs": [
    {
     "name": "stdout",
     "output_type": "stream",
     "text": [
      "(1137894, 7)\n"
     ]
    }
   ],
   "source": [
    "daily_pm25_concentrations = daily_pm25_concentrations[daily_pm25_concentrations['year'] == 2016]\n",
    "print(daily_pm25_concentrations.shape)"
   ]
  },
  {
   "cell_type": "code",
   "execution_count": 114,
   "metadata": {},
   "outputs": [
    {
     "data": {
      "text/html": [
       "<div>\n",
       "<style scoped>\n",
       "    .dataframe tbody tr th:only-of-type {\n",
       "        vertical-align: middle;\n",
       "    }\n",
       "\n",
       "    .dataframe tbody tr th {\n",
       "        vertical-align: top;\n",
       "    }\n",
       "\n",
       "    .dataframe thead th {\n",
       "        text-align: right;\n",
       "    }\n",
       "</style>\n",
       "<table border=\"1\" class=\"dataframe\">\n",
       "  <thead>\n",
       "    <tr style=\"text-align: right;\">\n",
       "      <th></th>\n",
       "      <th>year</th>\n",
       "      <th>date</th>\n",
       "      <th>PM25_max_pred</th>\n",
       "      <th>PM25_med_pred</th>\n",
       "      <th>PM25_mean_pred</th>\n",
       "      <th>PM25_pop_pred</th>\n",
       "      <th>COUNTY_FIPS</th>\n",
       "    </tr>\n",
       "  </thead>\n",
       "  <tbody>\n",
       "    <tr>\n",
       "      <th>17031102</th>\n",
       "      <td>2016</td>\n",
       "      <td>01JAN2016</td>\n",
       "      <td>12.0355</td>\n",
       "      <td>11.1733</td>\n",
       "      <td>11.307642</td>\n",
       "      <td>11.319748</td>\n",
       "      <td>01001</td>\n",
       "    </tr>\n",
       "    <tr>\n",
       "      <th>17031103</th>\n",
       "      <td>2016</td>\n",
       "      <td>01JAN2016</td>\n",
       "      <td>9.1172</td>\n",
       "      <td>8.4860</td>\n",
       "      <td>8.497219</td>\n",
       "      <td>8.491186</td>\n",
       "      <td>01003</td>\n",
       "    </tr>\n",
       "    <tr>\n",
       "      <th>17031104</th>\n",
       "      <td>2016</td>\n",
       "      <td>01JAN2016</td>\n",
       "      <td>8.8989</td>\n",
       "      <td>8.3317</td>\n",
       "      <td>8.422811</td>\n",
       "      <td>8.431755</td>\n",
       "      <td>01005</td>\n",
       "    </tr>\n",
       "    <tr>\n",
       "      <th>17031105</th>\n",
       "      <td>2016</td>\n",
       "      <td>01JAN2016</td>\n",
       "      <td>11.7303</td>\n",
       "      <td>10.8514</td>\n",
       "      <td>10.992450</td>\n",
       "      <td>10.933287</td>\n",
       "      <td>01007</td>\n",
       "    </tr>\n",
       "    <tr>\n",
       "      <th>17031106</th>\n",
       "      <td>2016</td>\n",
       "      <td>01JAN2016</td>\n",
       "      <td>13.2247</td>\n",
       "      <td>12.8959</td>\n",
       "      <td>12.703789</td>\n",
       "      <td>12.707233</td>\n",
       "      <td>01009</td>\n",
       "    </tr>\n",
       "  </tbody>\n",
       "</table>\n",
       "</div>"
      ],
      "text/plain": [
       "          year       date  PM25_max_pred  PM25_med_pred  PM25_mean_pred  \\\n",
       "17031102  2016  01JAN2016        12.0355        11.1733       11.307642   \n",
       "17031103  2016  01JAN2016         9.1172         8.4860        8.497219   \n",
       "17031104  2016  01JAN2016         8.8989         8.3317        8.422811   \n",
       "17031105  2016  01JAN2016        11.7303        10.8514       10.992450   \n",
       "17031106  2016  01JAN2016        13.2247        12.8959       12.703789   \n",
       "\n",
       "          PM25_pop_pred COUNTY_FIPS  \n",
       "17031102      11.319748       01001  \n",
       "17031103       8.491186       01003  \n",
       "17031104       8.431755       01005  \n",
       "17031105      10.933287       01007  \n",
       "17031106      12.707233       01009  "
      ]
     },
     "metadata": {},
     "output_type": "display_data"
    }
   ],
   "source": [
    "daily_pm25_concentrations_2016 = daily_pm25_concentrations.drop(['date', 'year'], axis=1)\n",
    "display(daily_pm25_concentrations.head(5))"
   ]
  },
  {
   "cell_type": "markdown",
   "metadata": {},
   "source": [
    "We are now ready to mean the data over the 2016 year."
   ]
  },
  {
   "cell_type": "code",
   "execution_count": 116,
   "metadata": {},
   "outputs": [
    {
     "name": "stdout",
     "output_type": "stream",
     "text": [
      "Index(['PM25_max_pred', 'PM25_mean_pred', 'PM25_med_pred', 'PM25_pop_pred'], dtype='object')\n"
     ]
    },
    {
     "data": {
      "text/html": [
       "<div>\n",
       "<style scoped>\n",
       "    .dataframe tbody tr th:only-of-type {\n",
       "        vertical-align: middle;\n",
       "    }\n",
       "\n",
       "    .dataframe tbody tr th {\n",
       "        vertical-align: top;\n",
       "    }\n",
       "\n",
       "    .dataframe thead th {\n",
       "        text-align: right;\n",
       "    }\n",
       "</style>\n",
       "<table border=\"1\" class=\"dataframe\">\n",
       "  <thead>\n",
       "    <tr style=\"text-align: right;\">\n",
       "      <th></th>\n",
       "      <th>PM25_max_pred</th>\n",
       "      <th>PM25_mean_pred</th>\n",
       "      <th>PM25_med_pred</th>\n",
       "      <th>PM25_pop_pred</th>\n",
       "    </tr>\n",
       "    <tr>\n",
       "      <th>COUNTY_FIPS</th>\n",
       "      <th></th>\n",
       "      <th></th>\n",
       "      <th></th>\n",
       "      <th></th>\n",
       "    </tr>\n",
       "  </thead>\n",
       "  <tbody>\n",
       "    <tr>\n",
       "      <th>01001</th>\n",
       "      <td>22.7065</td>\n",
       "      <td>9.926942</td>\n",
       "      <td>9.578425</td>\n",
       "      <td>9.535828</td>\n",
       "    </tr>\n",
       "    <tr>\n",
       "      <th>01003</th>\n",
       "      <td>21.0927</td>\n",
       "      <td>8.303087</td>\n",
       "      <td>8.010600</td>\n",
       "      <td>7.976270</td>\n",
       "    </tr>\n",
       "    <tr>\n",
       "      <th>01005</th>\n",
       "      <td>21.1485</td>\n",
       "      <td>8.813391</td>\n",
       "      <td>8.251450</td>\n",
       "      <td>8.196378</td>\n",
       "    </tr>\n",
       "    <tr>\n",
       "      <th>01007</th>\n",
       "      <td>25.5906</td>\n",
       "      <td>9.480694</td>\n",
       "      <td>8.946725</td>\n",
       "      <td>8.950332</td>\n",
       "    </tr>\n",
       "    <tr>\n",
       "      <th>01009</th>\n",
       "      <td>27.0350</td>\n",
       "      <td>10.029488</td>\n",
       "      <td>9.854800</td>\n",
       "      <td>9.836657</td>\n",
       "    </tr>\n",
       "    <tr>\n",
       "      <th>...</th>\n",
       "      <td>...</td>\n",
       "      <td>...</td>\n",
       "      <td>...</td>\n",
       "      <td>...</td>\n",
       "    </tr>\n",
       "    <tr>\n",
       "      <th>56037</th>\n",
       "      <td>30.6036</td>\n",
       "      <td>5.014473</td>\n",
       "      <td>4.512650</td>\n",
       "      <td>4.522330</td>\n",
       "    </tr>\n",
       "    <tr>\n",
       "      <th>56039</th>\n",
       "      <td>26.7337</td>\n",
       "      <td>4.751971</td>\n",
       "      <td>3.967575</td>\n",
       "      <td>3.909301</td>\n",
       "    </tr>\n",
       "    <tr>\n",
       "      <th>56041</th>\n",
       "      <td>25.1531</td>\n",
       "      <td>5.804105</td>\n",
       "      <td>5.003400</td>\n",
       "      <td>5.056456</td>\n",
       "    </tr>\n",
       "    <tr>\n",
       "      <th>56043</th>\n",
       "      <td>19.3705</td>\n",
       "      <td>3.893485</td>\n",
       "      <td>3.467300</td>\n",
       "      <td>3.296185</td>\n",
       "    </tr>\n",
       "    <tr>\n",
       "      <th>56045</th>\n",
       "      <td>21.8052</td>\n",
       "      <td>3.351007</td>\n",
       "      <td>2.991200</td>\n",
       "      <td>2.999343</td>\n",
       "    </tr>\n",
       "  </tbody>\n",
       "</table>\n",
       "<p>3109 rows × 4 columns</p>\n",
       "</div>"
      ],
      "text/plain": [
       "             PM25_max_pred  PM25_mean_pred  PM25_med_pred  PM25_pop_pred\n",
       "COUNTY_FIPS                                                             \n",
       "01001              22.7065        9.926942       9.578425       9.535828\n",
       "01003              21.0927        8.303087       8.010600       7.976270\n",
       "01005              21.1485        8.813391       8.251450       8.196378\n",
       "01007              25.5906        9.480694       8.946725       8.950332\n",
       "01009              27.0350       10.029488       9.854800       9.836657\n",
       "...                    ...             ...            ...            ...\n",
       "56037              30.6036        5.014473       4.512650       4.522330\n",
       "56039              26.7337        4.751971       3.967575       3.909301\n",
       "56041              25.1531        5.804105       5.003400       5.056456\n",
       "56043              19.3705        3.893485       3.467300       3.296185\n",
       "56045              21.8052        3.351007       2.991200       2.999343\n",
       "\n",
       "[3109 rows x 4 columns]"
      ]
     },
     "metadata": {},
     "output_type": "display_data"
    }
   ],
   "source": [
    "yearly_pm25_concentrations_2016 = daily_pm25_concentrations_2016.groupby('COUNTY_FIPS').agg({\"PM25_max_pred\": np.max, \"PM25_mean_pred\": np.mean, \"PM25_med_pred\": np.median, \"PM25_pop_pred\": np.median})\n",
    "print(yearly_pm25_concentrations_2016.columns)\n",
    "display(yearly_pm25_concentrations_2016)"
   ]
  },
  {
   "cell_type": "markdown",
   "metadata": {},
   "source": [
    "## Data Cleaning"
   ]
  },
  {
   "cell_type": "code",
   "execution_count": 117,
   "metadata": {},
   "outputs": [
    {
     "data": {
      "image/png": "[encoded data removed]",
      "text/plain": [
       "<Figure size 432x288 with 1 Axes>"
      ]
     },
     "metadata": {
      "needs_background": "light"
     },
     "output_type": "display_data"
    }
   ],
   "source": [
    "plot_nan_heatmap(yearly_pm25_concentrations_2016)"
   ]
  },
  {
   "cell_type": "markdown",
   "metadata": {},
   "source": [
    "# Joining the data"
   ]
  },
  {
   "cell_type": "code",
   "execution_count": null,
   "metadata": {},
   "outputs": [],
   "source": [
    "df_pm_emit = "
   ]
  },
  {
   "cell_type": "markdown",
   "metadata": {},
   "source": [
    "# Analyse the correlation\n",
    "\n",
    "Nb: do a correlation heatmap"
   ]
  },
  {
   "cell_type": "code",
   "execution_count": null,
   "metadata": {},
   "outputs": [],
   "source": []
  },
  {
   "cell_type": "markdown",
   "metadata": {},
   "source": [
    "# Prediction Model"
   ]
  },
  {
   "cell_type": "code",
   "execution_count": null,
   "metadata": {},
   "outputs": [],
   "source": []
  }
 ],
 "metadata": {
  "interpreter": {
   "hash": "aee8b7b246df8f9039afb4144a1f6fd8d2ca17a180786b69acc140d282b71a49"
  },
  "kernelspec": {
   "display_name": "Python 3.9.12 64-bit",
   "language": "python",
   "name": "python3"
  },
  "language_info": {
   "codemirror_mode": {
    "name": "ipython",
    "version": 3
   },
   "file_extension": ".py",
   "mimetype": "text/x-python",
   "name": "python",
   "nbconvert_exporter": "python",
   "pygments_lexer": "ipython3",
   "version": "3.9.12"
  },
  "orig_nbformat": 4
 },
 "nbformat": 4,
 "nbformat_minor": 2
}
