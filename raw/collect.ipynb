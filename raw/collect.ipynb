{
 "cells": [
  {
   "cell_type": "markdown",
   "metadata": {},
   "source": [
    "Collecting data using utils from DataHub"
   ]
  },
  {
   "cell_type": "code",
   "execution_count": 5,
   "metadata": {},
   "outputs": [],
   "source": [
    "from utils import *\n",
    "import gdrive_refs as gdrive"
   ]
  },
  {
   "cell_type": "code",
   "execution_count": 7,
   "metadata": {},
   "outputs": [
    {
     "name": "stdout",
     "output_type": "stream",
     "text": [
      "starting download of: annual_aqi__by_county.csv\n",
      "Downloading... Done!\n",
      "starting download of: daily_aqi__by_county.csv\n",
      "Downloading... Done!\n",
      "starting download of: Air_Quality_Measures_on_the_National_Environmental_Health_Tracking_Network.csv\n",
      "Downloading... Done!\n",
      "starting download of: data-who-attributable-death-rate-air-pollutants-other-version.csv\n",
      "Downloading... Done!\n",
      "starting download of: data-who-attributable-death-rate-air-pollutants.csv\n",
      "Downloading... Done!\n",
      "starting download of: who-air-pollutants-db.csv\n",
      "Downloading... Done!\n",
      "starting download of: Daily_PM2.5_Concentrations_All_County__2001-2016.csv\n",
      "Downloading... Done!\n"
     ]
    }
   ],
   "source": [
    "for gdrive_file in gdrive.gdrive_dic:\n",
    "    print(f'starting download of: {gdrive_file[1]}')\n",
    "    gdrive_id, file = gdrive_file[0], gdrive_file[1]\n",
    "    fetch_and_cache_gdrive(gdrive_id, file, data_dir=\"data\", force=False)"
   ]
  },
  {
   "cell_type": "code",
   "execution_count": null,
   "metadata": {},
   "outputs": [],
   "source": []
  }
 ],
 "metadata": {
  "interpreter": {
   "hash": "b553b165aa577f0a0759655df33accdaa7d035bd1c1314931c1211231057a918"
  },
  "kernelspec": {
   "display_name": "Python 3.7.6 ('base')",
   "language": "python",
   "name": "python3"
  },
  "language_info": {
   "codemirror_mode": {
    "name": "ipython",
    "version": 3
   },
   "file_extension": ".py",
   "mimetype": "text/x-python",
   "name": "python",
   "nbconvert_exporter": "python",
   "pygments_lexer": "ipython3",
   "version": "3.9.12"
  },
  "orig_nbformat": 4
 },
 "nbformat": 4,
 "nbformat_minor": 2
}
