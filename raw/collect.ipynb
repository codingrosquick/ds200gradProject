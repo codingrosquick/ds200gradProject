<<<<<<< Updated upstream
{
 "cells": [
  {
   "cell_type": "markdown",
   "metadata": {},
   "source": [
    "Collecting data using utils from DataHub"
   ]
  },
  {
   "cell_type": "code",
   "execution_count": 5,
   "metadata": {},
   "outputs": [],
   "source": [
    "from utils import *\n",
    "import gdrive_refs as gdrive"
   ]
  },
  {
   "cell_type": "code",
   "execution_count": 7,
   "metadata": {},
   "outputs": [
    {
     "name": "stdout",
     "output_type": "stream",
     "text": [
      "starting download of: annual_aqi__by_county.csv\n",
      "Downloading... Done!\n",
      "starting download of: daily_aqi__by_county.csv\n",
      "Downloading... Done!\n",
      "starting download of: Air_Quality_Measures_on_the_National_Environmental_Health_Tracking_Network.csv\n",
      "Downloading... Done!\n",
      "starting download of: data-who-attributable-death-rate-air-pollutants-other-version.csv\n",
      "Downloading... Done!\n",
      "starting download of: data-who-attributable-death-rate-air-pollutants.csv\n",
      "Downloading... Done!\n",
      "starting download of: who-air-pollutants-db.csv\n",
      "Downloading... Done!\n",
      "starting download of: Daily_PM2.5_Concentrations_All_County__2001-2016.csv\n",
      "Downloading... Done!\n"
     ]
    }
   ],
   "source": [
    "for gdrive_file in gdrive.gdrive_dic:\n",
    "    print(f'starting download of: {gdrive_file[1]}')\n",
    "    gdrive_id, file = gdrive_file[0], gdrive_file[1]\n",
    "    fetch_and_cache_gdrive(gdrive_id, file, data_dir=\"data\", force=False)"
   ]
  },
  {
   "cell_type": "code",
   "execution_count": null,
   "metadata": {},
   "outputs": [],
   "source": []
  }
 ],
 "metadata": {
  "interpreter": {
   "hash": "b553b165aa577f0a0759655df33accdaa7d035bd1c1314931c1211231057a918"
  },
  "kernelspec": {
   "display_name": "Python 3.7.6 ('base')",
   "language": "python",
   "name": "python3"
  },
  "language_info": {
   "codemirror_mode": {
    "name": "ipython",
    "version": 3
   },
   "file_extension": ".py",
   "mimetype": "text/x-python",
   "name": "python",
   "nbconvert_exporter": "python",
   "pygments_lexer": "ipython3",
   "version": "3.9.12"
  },
  "orig_nbformat": 4
 },
 "nbformat": 4,
 "nbformat_minor": 2
}
=======
{"cells":[{"cell_type":"code","execution_count":1,"metadata":{},"outputs":[],"source":["from utils import *\n","import gdrive_refs as gdrive"]},{"cell_type":"code","execution_count":2,"metadata":{},"outputs":[{"name":"stdout","output_type":"stream","text":["Using cached version that was downloaded (UTC): Fri Apr 15 17:07:17 2022\n","Using cached version that was downloaded (UTC): Fri Apr 15 17:07:17 2022\n","Using cached version that was downloaded (UTC): Fri Apr 15 17:07:30 2022\n","Using cached version that was downloaded (UTC): Fri Apr 15 17:07:33 2022\n","Using cached version that was downloaded (UTC): Fri Apr 15 17:07:34 2022\n","Using cached version that was downloaded (UTC): Fri Apr 15 17:07:36 2022\n","Downloading... Done!\n","Using cached version that was downloaded (UTC): Fri Apr 15 17:07:37 2022\n","Using cached version that was downloaded (UTC): Fri Apr 15 17:07:37 2022\n","Using cached version that was downloaded (UTC): Thu Apr 21 16:35:39 2022\n","Using cached version that was downloaded (UTC): Thu Apr 21 16:35:40 2022\n","Using cached version that was downloaded (UTC): Thu Apr 21 16:35:41 2022\n","Using cached version that was downloaded (UTC): Thu Apr 21 16:35:42 2022\n","Using cached version that was downloaded (UTC): Thu Apr 21 16:35:43 2022\n","Using cached version that was downloaded (UTC): Thu Apr 21 16:35:45 2022\n","Using cached version that was downloaded (UTC): Thu Apr 21 16:35:46 2022\n","Using cached version that was downloaded (UTC): Thu Apr 21 16:35:47 2022\n","Using cached version that was downloaded (UTC): Thu Apr 21 16:35:48 2022\n","Using cached version that was downloaded (UTC): Thu Apr 21 16:35:48 2022\n","Using cached version that was downloaded (UTC): Thu Apr 21 16:35:49 2022\n","Using cached version that was downloaded (UTC): Thu Apr 21 16:35:50 2022\n","Using cached version that was downloaded (UTC): Thu Apr 21 16:35:50 2022\n","Using cached version that was downloaded (UTC): Thu Apr 21 16:35:51 2022\n","Using cached version that was downloaded (UTC): Thu Apr 21 16:35:52 2022\n","Using cached version that was downloaded (UTC): Thu Apr 21 16:35:53 2022\n","Using cached version that was downloaded (UTC): Thu Apr 21 16:35:54 2022\n"]}],"source":["for gdrive_file in gdrive.gdrive_dic:\n","    gdrive_id, file = gdrive_file[0], gdrive_file[1]\n","    fetch_and_cache_gdrive(gdrive_id, file, data_dir=\"data\", force=False)"]},{"cell_type":"code","execution_count":null,"metadata":{},"outputs":[],"source":[]}],"metadata":{"interpreter":{"hash":"b553b165aa577f0a0759655df33accdaa7d035bd1c1314931c1211231057a918"},"kernelspec":{"display_name":"Python 3.7.6 ('base')","language":"python","name":"python3"},"language_info":{"codemirror_mode":{"name":"ipython","version":3},"file_extension":".py","mimetype":"text/x-python","name":"python","nbconvert_exporter":"python","pygments_lexer":"ipython3","version":"3.7.6"},"orig_nbformat":4},"nbformat":4,"nbformat_minor":2}
>>>>>>> Stashed changes
