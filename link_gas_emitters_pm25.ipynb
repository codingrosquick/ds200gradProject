{
 "cells": [
  {
   "cell_type": "markdown",
   "metadata": {},
   "source": [
    "# Correlation facility emitting pollutants and PM25/AQI levels"
   ]
  },
  {
   "cell_type": "code",
   "execution_count": 57,
   "metadata": {},
   "outputs": [],
   "source": [
    "import matplotlib.pyplot as plt\n",
    "import numpy as np\n",
    "import pandas as pd\n",
    "import plotly.express as px\n",
    "import seaborn as sns\n",
    "import scipy as sc\n",
    "\n",
    "plt.style.use('fivethirtyeight') # Use plt.style.available to see more styles\n",
    "sns.set()\n",
    "sns.set_context(\"talk\")\n",
    "%matplotlib inline"
   ]
  },
  {
   "cell_type": "markdown",
   "metadata": {},
   "source": [
    "We will be using data from gas emitter data. We will link this to the AQI and PM2.5 levels.\n",
    "\n",
    "The grannularity of the data is by county. The time cxonsidered is 2020, when the data has been collected."
   ]
  },
  {
   "cell_type": "markdown",
   "metadata": {},
   "source": [
    "# Data Extraction from gas emitter types"
   ]
  },
  {
   "cell_type": "markdown",
   "metadata": {},
   "source": [
    "## Importing data"
   ]
  },
  {
   "cell_type": "markdown",
   "metadata": {},
   "source": [
    "We are using: ```./raw/data/us_greenhouse_gas_emission_direct_emitter_gas_type.csv```"
   ]
  },
  {
   "cell_type": "code",
   "execution_count": 58,
   "metadata": {},
   "outputs": [],
   "source": [
    "facilities_df = pd.read_csv('./raw/data/us_greenhouse_gas_emission_direct_emitter_gas_type.csv')"
   ]
  },
  {
   "cell_type": "markdown",
   "metadata": {},
   "source": [
    "## Feature selection"
   ]
  },
  {
   "cell_type": "code",
   "execution_count": 59,
   "metadata": {},
   "outputs": [
    {
     "data": {
      "text/plain": [
       "(219928, 4)"
      ]
     },
     "execution_count": 59,
     "metadata": {},
     "output_type": "execute_result"
    }
   ],
   "source": [
    "columns_to_keep = [\n",
    "    'V_GHG_EMITTER_GAS.FACILITY_ID',\n",
    "    'V_GHG_EMITTER_GAS.GAS_CODE',\n",
    "    'V_GHG_EMITTER_GAS.CO2E_EMISSION',\n",
    "    'V_GHG_EMITTER_GAS.COUNTY_FIPS'\n",
    "    ]\n",
    "facilities_df = facilities_df.loc[:,columns_to_keep]\n",
    "facilities_df.head(5)\n",
    "facilities_df.shape"
   ]
  },
  {
   "cell_type": "code",
   "execution_count": 61,
   "metadata": {},
   "outputs": [
    {
     "data": {
      "text/plain": [
       "CH4           77410\n",
       "CO2           69076\n",
       "N2O           62494\n",
       "BIOCO2         6825\n",
       "SF6            1419\n",
       "HFC             636\n",
       "PFC             634\n",
       "Other_Full      472\n",
       "NF3             444\n",
       "Very_Short      251\n",
       "HFE             201\n",
       "Other            66\n",
       "Name: V_GHG_EMITTER_GAS.GAS_CODE, dtype: int64"
      ]
     },
     "execution_count": 61,
     "metadata": {},
     "output_type": "execute_result"
    }
   ],
   "source": [
    "facilities_df['V_GHG_EMITTER_GAS.GAS_CODE'].value_counts()\n",
    "# 'V_GHG_EMITTER_GAS.GAS_NAME' doesn't provide additionnal classes and explanations\n"
   ]
  },
  {
   "cell_type": "code",
   "execution_count": 62,
   "metadata": {},
   "outputs": [],
   "source": [
    "def get_metrics_for_1_gas(facilities, gas_code: str):\n",
    "    facilities_gas = facilities[facilities['V_GHG_EMITTER_GAS.GAS_CODE'] == gas_code]\n",
    "\n",
    "    def get_metrics(x):\n",
    "        return (x.mean(), x.max(), len(x))\n",
    "\n",
    "    facilities_by_county = facilities_gas.groupby('V_GHG_EMITTER_GAS.COUNTY_FIPS').agg(get_metrics)\n",
    "\n",
    "    facilities_by_county[f'{gas_code}_mean'] = facilities_by_county['V_GHG_EMITTER_GAS.CO2E_EMISSION'].apply(lambda x: x[0])\n",
    "    facilities_by_county[f'{gas_code}_max'] = facilities_by_county['V_GHG_EMITTER_GAS.CO2E_EMISSION'].apply(lambda x: x[1])\n",
    "    facilities_by_county[f'{gas_code}_count'] = facilities_by_county['V_GHG_EMITTER_GAS.CO2E_EMISSION'].apply(lambda x: x[2])\n",
    "    facilities_by_county = facilities_by_county.drop('V_GHG_EMITTER_GAS.CO2E_EMISSION', axis=1)\n",
    "    facilities_by_county = facilities_by_county.drop('V_GHG_EMITTER_GAS.FACILITY_ID', axis=1)\n",
    "\n",
    "    return facilities_by_county\n",
    "    # size = facilities_gas.shape[0]\n",
    "    # trouver moyen de prendre max, count, mean depuis le co2eq\n",
    "\n",
    "def join_all_metrics(facilities):\n",
    "    gas_types = facilities['V_GHG_EMITTER_GAS.GAS_CODE'].unique()\n",
    "    print(gas_types)\n",
    "\n",
    "    facilities_metrics = [get_metrics_for_1_gas(facilities, gas_code) for gas_code in gas_types]\n",
    "    \n",
    "    facilities = facilities_metrics[0].copy()\n",
    "    for i in range(1,len(facilities_metrics)):\n",
    "        facilities = facilities.join(facilities_metrics[i], on='V_GHG_EMITTER_GAS.COUNTY_FIPS', how='left')\n",
    "\n",
    "    return facilities\n",
    "\n",
    "# PLOT HEATMAP OF NAN\n",
    "# Source: https://gist.github.com/NadimKawwa/98e42c26401db0dffde95fe4ddbea67e\n",
    "\n",
    "def plot_nan_heatmap(df):\n",
    "    #set figure size\n",
    "    # plt.figure(figsize=(10,10))\n",
    "    plt.figure()\n",
    "\n",
    "    #generate heatmap\n",
    "    sns.heatmap(df.isnull(), cbar=False)\n",
    "\n",
    "    #labels and titles\n",
    "    plt.title(f\"NaN heatmap\")\n",
    "    #plt.yticks(np.arange(0, df.shape[0], 500))\n",
    "    plt.xlabel(\"Column Index/Feature Space\")\n",
    "    plt.ylabel(\"Row Index/Observations\")\n",
    "\n",
    "    plt.show()\n"
   ]
  },
  {
   "cell_type": "code",
   "execution_count": 63,
   "metadata": {},
   "outputs": [
    {
     "name": "stdout",
     "output_type": "stream",
     "text": [
      "['BIOCO2' 'CH4' 'N2O' 'CO2' 'SF6' 'Other_Full' 'PFC' 'HFC' 'Very_Short'\n",
      " 'HFE' 'NF3' 'Other']\n"
     ]
    },
    {
     "name": "stderr",
     "output_type": "stream",
     "text": [
      "/usr/local/lib/python3.9/site-packages/pandas/core/groupby/generic.py:303: FutureWarning: Dropping invalid columns in SeriesGroupBy.agg is deprecated. In a future version, a TypeError will be raised. Before calling .agg, select only columns which should be valid for the aggregating function.\n",
      "  results[key] = self.aggregate(func)\n"
     ]
    },
    {
     "name": "stdout",
     "output_type": "stream",
     "text": [
      "                                BIOCO2_mean  BIOCO2_max  BIOCO2_count  \\\n",
      "V_GHG_EMITTER_GAS.COUNTY_FIPS                                           \n",
      "1001.0                         1.596640e+06   1683572.3            10   \n",
      "1015.0                         4.100000e+00         4.1             1   \n",
      "1023.0                         1.013726e+06   1126386.1            10   \n",
      "1025.0                         7.011927e+05    749337.7            10   \n",
      "1043.0                         2.343150e+03      4562.5             8   \n",
      "...                                     ...         ...           ...   \n",
      "56003.0                        2.041750e+03      4075.0             2   \n",
      "56005.0                        1.205660e+03      3148.1             5   \n",
      "72013.0                        1.598667e+02       230.2             3   \n",
      "72053.0                        3.759850e+03      5018.8             4   \n",
      "72137.0                        5.591467e+03      6707.8             3   \n",
      "\n",
      "                                   CH4_mean     CH4_max  CH4_count  \\\n",
      "V_GHG_EMITTER_GAS.COUNTY_FIPS                                        \n",
      "1001.0                         13196.663793   49504.500         58   \n",
      "1015.0                          4402.443249   78775.825         50   \n",
      "1023.0                         29655.572368  117301.750         38   \n",
      "1025.0                          3130.087838   14424.750         37   \n",
      "1043.0                         19974.480000   60614.250         25   \n",
      "...                                     ...         ...        ...   \n",
      "56003.0                           49.258621     129.750         29   \n",
      "56005.0                         3729.319018   32741.500        163   \n",
      "72013.0                        83908.400000  939470.750         20   \n",
      "72053.0                        53820.775000   78551.000         10   \n",
      "72137.0                        73926.887500  190269.500         20   \n",
      "\n",
      "                                  N2O_mean    N2O_max  N2O_count  \\\n",
      "V_GHG_EMITTER_GAS.COUNTY_FIPS                                      \n",
      "1001.0                         3516.049850  24355.540       40.0   \n",
      "1015.0                           33.526714    123.670       48.0   \n",
      "1023.0                         2797.387655  18100.520       29.0   \n",
      "1025.0                         5168.035200  10684.194       10.0   \n",
      "1043.0                           56.262400     63.474       10.0   \n",
      "...                                    ...        ...        ...   \n",
      "56003.0                          80.203103    225.288       29.0   \n",
      "56005.0                        2694.304994  16440.958      161.0   \n",
      "72013.0                         170.027625    436.868       16.0   \n",
      "72053.0                          11.204800     18.178        5.0   \n",
      "72137.0                        2276.422000   6611.428       16.0   \n",
      "\n",
      "                                   CO2_mean  ...  Very_Short_count  HFE_mean  \\\n",
      "V_GHG_EMITTER_GAS.COUNTY_FIPS                ...                               \n",
      "1001.0                         1.278896e+06  ...               NaN       NaN   \n",
      "1015.0                         3.576015e+04  ...               NaN       NaN   \n",
      "1023.0                         1.911554e+05  ...               NaN       NaN   \n",
      "1025.0                         9.490403e+04  ...               NaN       NaN   \n",
      "1043.0                         7.122501e+04  ...               NaN       NaN   \n",
      "...                                     ...  ...               ...       ...   \n",
      "56003.0                        3.731217e+04  ...               NaN       NaN   \n",
      "56005.0                        5.476254e+05  ...               NaN       NaN   \n",
      "72013.0                        5.631101e+04  ...               NaN       NaN   \n",
      "72053.0                        8.218000e+01  ...               NaN       NaN   \n",
      "72137.0                        7.894604e+05  ...               NaN       NaN   \n",
      "\n",
      "                               HFE_max  HFE_count  NF3_mean  NF3_max  \\\n",
      "V_GHG_EMITTER_GAS.COUNTY_FIPS                                          \n",
      "1001.0                             NaN        NaN       NaN      NaN   \n",
      "1015.0                             NaN        NaN       NaN      NaN   \n",
      "1023.0                             NaN        NaN       NaN      NaN   \n",
      "1025.0                             NaN        NaN       NaN      NaN   \n",
      "1043.0                             NaN        NaN       NaN      NaN   \n",
      "...                                ...        ...       ...      ...   \n",
      "56003.0                            NaN        NaN       NaN      NaN   \n",
      "56005.0                            NaN        NaN       NaN      NaN   \n",
      "72013.0                            NaN        NaN       NaN      NaN   \n",
      "72053.0                            NaN        NaN       NaN      NaN   \n",
      "72137.0                            NaN        NaN       NaN      NaN   \n",
      "\n",
      "                               NF3_count  Other_mean  Other_max  Other_count  \n",
      "V_GHG_EMITTER_GAS.COUNTY_FIPS                                                 \n",
      "1001.0                               NaN         NaN        NaN          NaN  \n",
      "1015.0                               NaN         NaN        NaN          NaN  \n",
      "1023.0                               NaN         NaN        NaN          NaN  \n",
      "1025.0                               NaN         NaN        NaN          NaN  \n",
      "1043.0                               NaN         NaN        NaN          NaN  \n",
      "...                                  ...         ...        ...          ...  \n",
      "56003.0                              NaN         NaN        NaN          NaN  \n",
      "56005.0                              NaN         NaN        NaN          NaN  \n",
      "72013.0                              NaN         NaN        NaN          NaN  \n",
      "72053.0                              NaN         NaN        NaN          NaN  \n",
      "72137.0                              NaN         NaN        NaN          NaN  \n",
      "\n",
      "[746 rows x 36 columns]\n"
     ]
    }
   ],
   "source": [
    "# with_metrics_ch4 = get_metrics_for_1_gas(facilities=facilities_df, gas_code='CH4')\n",
    "# print(with_metrics_ch4.head(10))\n",
    "\n",
    "fac = join_all_metrics(facilities=facilities_df)\n",
    "print(fac)"
   ]
  },
  {
   "cell_type": "markdown",
   "metadata": {},
   "source": [
    "## Data cleaning"
   ]
  },
  {
   "cell_type": "code",
   "execution_count": 64,
   "metadata": {},
   "outputs": [
    {
     "data": {
      "image/png": "[encoded data removed]",
      "text/plain": [
       "<Figure size 432x288 with 1 Axes>"
      ]
     },
     "metadata": {
      "needs_background": "light"
     },
     "output_type": "display_data"
    }
   ],
   "source": [
    "plot_nan_heatmap(fac)"
   ]
  },
  {
   "cell_type": "markdown",
   "metadata": {},
   "source": [
    "To continue the cleaning, we will replace NaN columns by zeros. It makes sense as the companies not measuring specific types of gas emitted by the industry do this as they don't use those chemicals. For instance, a plant not using any product leading to PFC pollution doesn't need to track their emission related to this, as it would be 0."
   ]
  },
  {
   "cell_type": "code",
   "execution_count": 65,
   "metadata": {},
   "outputs": [
    {
     "data": {
      "image/png": "[encoded data removed]",
      "text/plain": [
       "<Figure size 432x288 with 1 Axes>"
      ]
     },
     "metadata": {
      "needs_background": "light"
     },
     "output_type": "display_data"
    },
    {
     "name": "stdout",
     "output_type": "stream",
     "text": [
      "(746, 36)\n",
      "Index(['BIOCO2_mean', 'BIOCO2_max', 'BIOCO2_count', 'CH4_mean', 'CH4_max',\n",
      "       'CH4_count', 'N2O_mean', 'N2O_max', 'N2O_count', 'CO2_mean', 'CO2_max',\n",
      "       'CO2_count', 'SF6_mean', 'SF6_max', 'SF6_count', 'Other_Full_mean',\n",
      "       'Other_Full_max', 'Other_Full_count', 'PFC_mean', 'PFC_max',\n",
      "       'PFC_count', 'HFC_mean', 'HFC_max', 'HFC_count', 'Very_Short_mean',\n",
      "       'Very_Short_max', 'Very_Short_count', 'HFE_mean', 'HFE_max',\n",
      "       'HFE_count', 'NF3_mean', 'NF3_max', 'NF3_count', 'Other_mean',\n",
      "       'Other_max', 'Other_count'],\n",
      "      dtype='object')\n",
      "V_GHG_EMITTER_GAS.COUNTY_FIPS\n"
     ]
    }
   ],
   "source": [
    "fac = fac.fillna(0)\n",
    "plot_nan_heatmap(fac)\n",
    "print(fac.shape)\n",
    "print(fac.columns)\n",
    "print(fac.index.name)"
   ]
  },
  {
   "cell_type": "markdown",
   "metadata": {},
   "source": [
    "# Data Extraction from pm25 and AQI level, county-wise"
   ]
  },
  {
   "cell_type": "markdown",
   "metadata": {},
   "source": [
    "To compare the industry activity to PM2.5 levels, we use WHO's data on daily PM2.5 levels.\n",
    "\n",
    "There is one issue though, as these data relates to 2016 data. We will try to match them. This can make sense, as industry and factory take a long amount of time to become operational and stay like this for a long time.\n",
    "\n",
    "\n",
    "\n",
    "TOREMOVE:\n",
    "\n",
    "Tried to use: air_qual_df = pd.read_csv('./raw/data/us_air_quality_measures.csv')\n",
    "-> shitty dataset\n"
   ]
  },
  {
   "cell_type": "markdown",
   "metadata": {},
   "source": [
    "## Importing Data"
   ]
  },
  {
   "cell_type": "code",
   "execution_count": 68,
   "metadata": {},
   "outputs": [
    {
     "name": "stdout",
     "output_type": "stream",
     "text": [
      "Index(['year', 'date', 'statefips', 'countyfips', 'PM25_max_pred',\n",
      "       'PM25_med_pred', 'PM25_mean_pred', 'PM25_pop_pred'],\n",
      "      dtype='object')\n"
     ]
    },
    {
     "data": {
      "text/html": [
       "<div>\n",
       "<style scoped>\n",
       "    .dataframe tbody tr th:only-of-type {\n",
       "        vertical-align: middle;\n",
       "    }\n",
       "\n",
       "    .dataframe tbody tr th {\n",
       "        vertical-align: top;\n",
       "    }\n",
       "\n",
       "    .dataframe thead th {\n",
       "        text-align: right;\n",
       "    }\n",
       "</style>\n",
       "<table border=\"1\" class=\"dataframe\">\n",
       "  <thead>\n",
       "    <tr style=\"text-align: right;\">\n",
       "      <th></th>\n",
       "      <th>year</th>\n",
       "      <th>date</th>\n",
       "      <th>statefips</th>\n",
       "      <th>countyfips</th>\n",
       "      <th>PM25_max_pred</th>\n",
       "      <th>PM25_med_pred</th>\n",
       "      <th>PM25_mean_pred</th>\n",
       "      <th>PM25_pop_pred</th>\n",
       "    </tr>\n",
       "  </thead>\n",
       "  <tbody>\n",
       "    <tr>\n",
       "      <th>0</th>\n",
       "      <td>2001</td>\n",
       "      <td>01JAN2001</td>\n",
       "      <td>1</td>\n",
       "      <td>1</td>\n",
       "      <td>10.664367</td>\n",
       "      <td>10.264546</td>\n",
       "      <td>10.137631</td>\n",
       "      <td>10.188703</td>\n",
       "    </tr>\n",
       "    <tr>\n",
       "      <th>1</th>\n",
       "      <td>2001</td>\n",
       "      <td>01JAN2001</td>\n",
       "      <td>1</td>\n",
       "      <td>3</td>\n",
       "      <td>9.803209</td>\n",
       "      <td>8.739505</td>\n",
       "      <td>8.743748</td>\n",
       "      <td>8.811486</td>\n",
       "    </tr>\n",
       "    <tr>\n",
       "      <th>2</th>\n",
       "      <td>2001</td>\n",
       "      <td>01JAN2001</td>\n",
       "      <td>1</td>\n",
       "      <td>5</td>\n",
       "      <td>12.087599</td>\n",
       "      <td>11.809159</td>\n",
       "      <td>11.812775</td>\n",
       "      <td>11.802062</td>\n",
       "    </tr>\n",
       "    <tr>\n",
       "      <th>3</th>\n",
       "      <td>2001</td>\n",
       "      <td>01JAN2001</td>\n",
       "      <td>1</td>\n",
       "      <td>7</td>\n",
       "      <td>8.579425</td>\n",
       "      <td>8.435394</td>\n",
       "      <td>8.458118</td>\n",
       "      <td>8.448871</td>\n",
       "    </tr>\n",
       "    <tr>\n",
       "      <th>4</th>\n",
       "      <td>2001</td>\n",
       "      <td>01JAN2001</td>\n",
       "      <td>1</td>\n",
       "      <td>9</td>\n",
       "      <td>14.399446</td>\n",
       "      <td>13.577741</td>\n",
       "      <td>13.300528</td>\n",
       "      <td>13.231461</td>\n",
       "    </tr>\n",
       "  </tbody>\n",
       "</table>\n",
       "</div>"
      ],
      "text/plain": [
       "   year       date  statefips  countyfips  PM25_max_pred  PM25_med_pred  \\\n",
       "0  2001  01JAN2001          1           1      10.664367      10.264546   \n",
       "1  2001  01JAN2001          1           3       9.803209       8.739505   \n",
       "2  2001  01JAN2001          1           5      12.087599      11.809159   \n",
       "3  2001  01JAN2001          1           7       8.579425       8.435394   \n",
       "4  2001  01JAN2001          1           9      14.399446      13.577741   \n",
       "\n",
       "   PM25_mean_pred  PM25_pop_pred  \n",
       "0       10.137631      10.188703  \n",
       "1        8.743748       8.811486  \n",
       "2       11.812775      11.802062  \n",
       "3        8.458118       8.448871  \n",
       "4       13.300528      13.231461  "
      ]
     },
     "metadata": {},
     "output_type": "display_data"
    }
   ],
   "source": [
    "daily_pm25_concentrations = pd.read_csv('./raw/data/Daily_PM2.5_Concentrations_All_County__2001-2016.csv')\n",
    "print(daily_pm25_concentrations.columns)\n",
    "display(daily_pm25_concentrations.head(5))"
   ]
  },
  {
   "cell_type": "code",
   "execution_count": 55,
   "metadata": {},
   "outputs": [
    {
     "data": {
      "text/plain": [
       "Number of days with maximum 8-hour average ozone concentration over the National Ambient Air Quality Standard (monitor and modeled data)                      34199\n",
       "Number of person-days with maximum 8-hour average ozone concentration over the National Ambient Air Quality Standard (monitor and modeled data)               34199\n",
       "Percent of days with PM2.5 levels over the National Ambient Air Quality Standard (monitor and modeled data)                                                   34199\n",
       "Number of person-days with PM2.5 over the National Ambient Air Quality Standard (monitor and modeled data)                                                    34199\n",
       "Annual average ambient concentrations of PM 2.5 in micrograms per cubic meter, based on seasonal averages and daily measurement (monitor and modeled data)    34199\n",
       "Number of days with maximum 8-hour average ozone concentration over the National Ambient Air Quality Standard                                                 10341\n",
       "Number of person-days with maximum 8-hour average ozone concentration over the National Ambient Air Quality Standard                                          10341\n",
       "Percent of days with PM2.5 levels over the National Ambient Air Quality Standard (NAAQS)                                                                       9268\n",
       "Person-days with PM2.5 over the National Ambient Air Quality Standard                                                                                          9268\n",
       "Annual average ambient concentrations of PM2.5 in micrograms per cubic meter (based on seasonal averages and daily measurement)                                8422\n",
       "Name: MeasureName, dtype: int64"
      ]
     },
     "execution_count": 55,
     "metadata": {},
     "output_type": "execute_result"
    }
   ],
   "source": []
  },
  {
   "cell_type": "code",
   "execution_count": null,
   "metadata": {},
   "outputs": [],
   "source": []
  }
 ],
 "metadata": {
  "interpreter": {
   "hash": "aee8b7b246df8f9039afb4144a1f6fd8d2ca17a180786b69acc140d282b71a49"
  },
  "kernelspec": {
   "display_name": "Python 3.9.12 64-bit",
   "language": "python",
   "name": "python3"
  },
  "language_info": {
   "codemirror_mode": {
    "name": "ipython",
    "version": 3
   },
   "file_extension": ".py",
   "mimetype": "text/x-python",
   "name": "python",
   "nbconvert_exporter": "python",
   "pygments_lexer": "ipython3",
   "version": "3.9.12"
  },
  "orig_nbformat": 4
 },
 "nbformat": 4,
 "nbformat_minor": 2
}
