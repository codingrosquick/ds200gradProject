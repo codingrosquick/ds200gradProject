{
 "cells": [
  {
   "cell_type": "markdown",
   "metadata": {},
   "source": [
    "# Correlation facility emitting pollutants and PM25/AQI levels"
   ]
  },
  {
   "cell_type": "code",
   "execution_count": 149,
   "metadata": {},
   "outputs": [],
   "source": [
    "import matplotlib.pyplot as plt\n",
    "import numpy as np\n",
    "import pandas as pd\n",
    "import plotly.express as px\n",
    "import seaborn as sns\n",
    "import scipy as sc\n",
    "\n",
    "plt.style.use('fivethirtyeight') # Use plt.style.available to see more styles\n",
    "sns.set()\n",
    "sns.set_context(\"talk\")\n",
    "%matplotlib inline"
   ]
  },
  {
   "cell_type": "markdown",
   "metadata": {},
   "source": [
    "We will be using data from gas emitter data. We will link this to the AQI and PM2.5 levels.\n",
    "\n",
    "The grannularity of the data is by county. The time cxonsidered is 2020, when the data has been collected."
   ]
  },
  {
   "cell_type": "markdown",
   "metadata": {},
   "source": [
    "# Data Extraction from gas emitter types"
   ]
  },
  {
   "cell_type": "markdown",
   "metadata": {},
   "source": [
    "## Importing data"
   ]
  },
  {
   "cell_type": "markdown",
   "metadata": {},
   "source": [
    "We are using: ```./raw/data/us_greenhouse_gas_emission_direct_emitter_gas_type.csv```"
   ]
  },
  {
   "cell_type": "code",
   "execution_count": 150,
   "metadata": {},
   "outputs": [],
   "source": [
    "facilities_df = pd.read_csv('./raw/data/us_greenhouse_gas_emission_direct_emitter_gas_type.csv')"
   ]
  },
  {
   "cell_type": "markdown",
   "metadata": {},
   "source": [
    "## Feature selection"
   ]
  },
  {
   "cell_type": "code",
   "execution_count": 151,
   "metadata": {},
   "outputs": [
    {
     "data": {
      "text/plain": [
       "(219928, 4)"
      ]
     },
     "execution_count": 151,
     "metadata": {},
     "output_type": "execute_result"
    }
   ],
   "source": [
    "columns_to_keep = [\n",
    "    'V_GHG_EMITTER_GAS.FACILITY_ID',\n",
    "    'V_GHG_EMITTER_GAS.GAS_CODE',\n",
    "    'V_GHG_EMITTER_GAS.CO2E_EMISSION',\n",
    "    'V_GHG_EMITTER_GAS.COUNTY_FIPS'\n",
    "    ]\n",
    "facilities_df = facilities_df.loc[:,columns_to_keep]\n",
    "facilities_df.head(5)\n",
    "facilities_df.shape"
   ]
  },
  {
   "cell_type": "code",
   "execution_count": 152,
   "metadata": {},
   "outputs": [
    {
     "data": {
      "text/plain": [
       "CH4           77410\n",
       "CO2           69076\n",
       "N2O           62494\n",
       "BIOCO2         6825\n",
       "SF6            1419\n",
       "HFC             636\n",
       "PFC             634\n",
       "Other_Full      472\n",
       "NF3             444\n",
       "Very_Short      251\n",
       "HFE             201\n",
       "Other            66\n",
       "Name: V_GHG_EMITTER_GAS.GAS_CODE, dtype: int64"
      ]
     },
     "execution_count": 152,
     "metadata": {},
     "output_type": "execute_result"
    }
   ],
   "source": [
    "facilities_df['V_GHG_EMITTER_GAS.GAS_CODE'].value_counts()\n",
    "# 'V_GHG_EMITTER_GAS.GAS_NAME' doesn't provide additionnal classes and explanations\n"
   ]
  },
  {
   "cell_type": "code",
   "execution_count": 223,
   "metadata": {},
   "outputs": [],
   "source": [
    "def get_metrics_for_1_gas(facilities, gas_code: str):\n",
    "    facilities_gas = facilities[facilities['V_GHG_EMITTER_GAS.GAS_CODE'] == gas_code]\n",
    "\n",
    "    def get_metrics(x):\n",
    "        return (x.sum(), x.mean(), x.max(), len(x))\n",
    "\n",
    "    facilities_by_county = facilities_gas.groupby('V_GHG_EMITTER_GAS.COUNTY_FIPS').agg(get_metrics)\n",
    "    \n",
    "    facilities_by_county[f'{gas_code}_sum'] = facilities_by_county['V_GHG_EMITTER_GAS.CO2E_EMISSION'].apply(lambda x: x[0])\n",
    "    facilities_by_county[f'{gas_code}_mean'] = facilities_by_county['V_GHG_EMITTER_GAS.CO2E_EMISSION'].apply(lambda x: x[2])\n",
    "    facilities_by_county[f'{gas_code}_max'] = facilities_by_county['V_GHG_EMITTER_GAS.CO2E_EMISSION'].apply(lambda x: x[2])\n",
    "    facilities_by_county[f'{gas_code}_count'] = facilities_by_county['V_GHG_EMITTER_GAS.CO2E_EMISSION'].apply(lambda x: x[3])\n",
    "    facilities_by_county = facilities_by_county.drop('V_GHG_EMITTER_GAS.CO2E_EMISSION', axis=1)\n",
    "    facilities_by_county = facilities_by_county.drop('V_GHG_EMITTER_GAS.FACILITY_ID', axis=1)\n",
    "\n",
    "    return facilities_by_county\n",
    "    # size = facilities_gas.shape[0]\n",
    "    # trouver moyen de prendre max, count, mean depuis le co2eq\n",
    "\n",
    "def join_all_metrics(facilities):\n",
    "    gas_types = facilities['V_GHG_EMITTER_GAS.GAS_CODE'].unique()\n",
    "    print(gas_types)\n",
    "\n",
    "    facilities_metrics = [get_metrics_for_1_gas(facilities, gas_code) for gas_code in gas_types]\n",
    "    \n",
    "    facilities = facilities_metrics[0].copy()\n",
    "    for i in range(1,len(facilities_metrics)):\n",
    "        facilities = facilities.join(facilities_metrics[i], on='V_GHG_EMITTER_GAS.COUNTY_FIPS', how='left')\n",
    "\n",
    "    return facilities\n",
    "\n",
    "# PLOT HEATMAP OF NAN\n",
    "# Source: https://gist.github.com/NadimKawwa/98e42c26401db0dffde95fe4ddbea67e\n",
    "\n",
    "def plot_nan_heatmap(df):\n",
    "    #set figure size\n",
    "    # plt.figure(figsize=(10,10))\n",
    "    plt.figure()\n",
    "\n",
    "    #generate heatmap\n",
    "    sns.heatmap(df.isnull(), cbar=False)\n",
    "\n",
    "    #labels and titles\n",
    "    plt.title(f\"NaN heatmap\")\n",
    "    #plt.yticks(np.arange(0, df.shape[0], 500))\n",
    "    plt.xlabel(\"Column Index/Feature Space\")\n",
    "    plt.ylabel(\"Row Index/Observations\")\n",
    "\n",
    "    plt.show()\n"
   ]
  },
  {
   "cell_type": "code",
   "execution_count": 224,
   "metadata": {},
   "outputs": [
    {
     "name": "stdout",
     "output_type": "stream",
     "text": [
      "['BIOCO2' 'CH4' 'N2O' 'CO2' 'SF6' 'Other_Full' 'PFC' 'HFC' 'Very_Short'\n",
      " 'HFE' 'NF3' 'Other']\n"
     ]
    },
    {
     "name": "stderr",
     "output_type": "stream",
     "text": [
      "/usr/local/lib/python3.9/site-packages/pandas/core/groupby/generic.py:303: FutureWarning: Dropping invalid columns in SeriesGroupBy.agg is deprecated. In a future version, a TypeError will be raised. Before calling .agg, select only columns which should be valid for the aggregating function.\n",
      "  results[key] = self.aggregate(func)\n"
     ]
    },
    {
     "name": "stdout",
     "output_type": "stream",
     "text": [
      "                               BIOCO2_sum  BIOCO2_mean  BIOCO2_max  \\\n",
      "V_GHG_EMITTER_GAS.COUNTY_FIPS                                        \n",
      "1001.0                         15966402.8    1683572.3   1683572.3   \n",
      "1015.0                                4.1          4.1         4.1   \n",
      "1023.0                         10137261.8    1126386.1   1126386.1   \n",
      "1025.0                          7011926.8     749337.7    749337.7   \n",
      "1043.0                            18745.2       4562.5      4562.5   \n",
      "...                                   ...          ...         ...   \n",
      "56003.0                            4083.5       4075.0      4075.0   \n",
      "56005.0                            6028.3       3148.1      3148.1   \n",
      "72013.0                             479.6        230.2       230.2   \n",
      "72053.0                           15039.4       5018.8      5018.8   \n",
      "72137.0                           16774.4       6707.8      6707.8   \n",
      "\n",
      "                               BIOCO2_count       CH4_sum    CH4_mean  \\\n",
      "V_GHG_EMITTER_GAS.COUNTY_FIPS                                           \n",
      "1001.0                                   10  7.654065e+05   49504.500   \n",
      "1015.0                                    1  2.201222e+05   78775.825   \n",
      "1023.0                                   10  1.126912e+06  117301.750   \n",
      "1025.0                                   10  1.158132e+05   14424.750   \n",
      "1043.0                                    8  4.993620e+05   60614.250   \n",
      "...                                     ...           ...         ...   \n",
      "56003.0                                   2  1.428500e+03     129.750   \n",
      "56005.0                                   5  6.078790e+05   32741.500   \n",
      "72013.0                                   3  1.678168e+06  939470.750   \n",
      "72053.0                                   4  5.382078e+05   78551.000   \n",
      "72137.0                                   3  1.478538e+06  190269.500   \n",
      "\n",
      "                                  CH4_max  CH4_count        N2O_sum  \\\n",
      "V_GHG_EMITTER_GAS.COUNTY_FIPS                                         \n",
      "1001.0                          49504.500         58  140641.994000   \n",
      "1015.0                          78775.825         50    1609.282248   \n",
      "1023.0                         117301.750         38   81124.242000   \n",
      "1025.0                          14424.750         37   51680.352000   \n",
      "1043.0                          60614.250         25     562.624000   \n",
      "...                                   ...        ...            ...   \n",
      "56003.0                           129.750         29    2325.890000   \n",
      "56005.0                         32741.500        163  433783.104000   \n",
      "72013.0                        939470.750         20    2720.442000   \n",
      "72053.0                         78551.000         10      56.024000   \n",
      "72137.0                        190269.500         20   36422.752000   \n",
      "\n",
      "                                N2O_mean  ...  HFE_max  HFE_count  NF3_sum  \\\n",
      "V_GHG_EMITTER_GAS.COUNTY_FIPS             ...                                \n",
      "1001.0                         24355.540  ...      NaN        NaN      NaN   \n",
      "1015.0                           123.670  ...      NaN        NaN      NaN   \n",
      "1023.0                         18100.520  ...      NaN        NaN      NaN   \n",
      "1025.0                         10684.194  ...      NaN        NaN      NaN   \n",
      "1043.0                            63.474  ...      NaN        NaN      NaN   \n",
      "...                                  ...  ...      ...        ...      ...   \n",
      "56003.0                          225.288  ...      NaN        NaN      NaN   \n",
      "56005.0                        16440.958  ...      NaN        NaN      NaN   \n",
      "72013.0                          436.868  ...      NaN        NaN      NaN   \n",
      "72053.0                           18.178  ...      NaN        NaN      NaN   \n",
      "72137.0                         6611.428  ...      NaN        NaN      NaN   \n",
      "\n",
      "                               NF3_mean  NF3_max  NF3_count  Other_sum  \\\n",
      "V_GHG_EMITTER_GAS.COUNTY_FIPS                                            \n",
      "1001.0                              NaN      NaN        NaN        NaN   \n",
      "1015.0                              NaN      NaN        NaN        NaN   \n",
      "1023.0                              NaN      NaN        NaN        NaN   \n",
      "1025.0                              NaN      NaN        NaN        NaN   \n",
      "1043.0                              NaN      NaN        NaN        NaN   \n",
      "...                                 ...      ...        ...        ...   \n",
      "56003.0                             NaN      NaN        NaN        NaN   \n",
      "56005.0                             NaN      NaN        NaN        NaN   \n",
      "72013.0                             NaN      NaN        NaN        NaN   \n",
      "72053.0                             NaN      NaN        NaN        NaN   \n",
      "72137.0                             NaN      NaN        NaN        NaN   \n",
      "\n",
      "                               Other_mean  Other_max  Other_count  \n",
      "V_GHG_EMITTER_GAS.COUNTY_FIPS                                      \n",
      "1001.0                                NaN        NaN          NaN  \n",
      "1015.0                                NaN        NaN          NaN  \n",
      "1023.0                                NaN        NaN          NaN  \n",
      "1025.0                                NaN        NaN          NaN  \n",
      "1043.0                                NaN        NaN          NaN  \n",
      "...                                   ...        ...          ...  \n",
      "56003.0                               NaN        NaN          NaN  \n",
      "56005.0                               NaN        NaN          NaN  \n",
      "72013.0                               NaN        NaN          NaN  \n",
      "72053.0                               NaN        NaN          NaN  \n",
      "72137.0                               NaN        NaN          NaN  \n",
      "\n",
      "[746 rows x 48 columns]\n"
     ]
    }
   ],
   "source": [
    "# with_metrics_ch4 = get_metrics_for_1_gas(facilities=facilities_df, gas_code='CH4')\n",
    "# print(with_metrics_ch4.head(10))\n",
    "\n",
    "facilities_with_metrics = join_all_metrics(facilities=facilities_df)\n",
    "print(facilities_with_metrics)"
   ]
  },
  {
   "cell_type": "markdown",
   "metadata": {},
   "source": [
    "## Data cleaning"
   ]
  },
  {
   "cell_type": "code",
   "execution_count": 225,
   "metadata": {},
   "outputs": [
    {
     "data": {
      "image/png": "[encoded data removed]",
      "text/plain": [
       "<Figure size 432x288 with 1 Axes>"
      ]
     },
     "metadata": {
      "needs_background": "light"
     },
     "output_type": "display_data"
    }
   ],
   "source": [
    "plot_nan_heatmap(facilities_with_metrics)"
   ]
  },
  {
   "cell_type": "markdown",
   "metadata": {},
   "source": [
    "To continue the cleaning, we will replace NaN columns by zeros. It makes sense as the companies not measuring specific types of gas emitted by the industry do this as they don't use those chemicals. For instance, a plant not using any product leading to PFC pollution doesn't need to track their emission related to this, as it would be 0."
   ]
  },
  {
   "cell_type": "code",
   "execution_count": 226,
   "metadata": {},
   "outputs": [
    {
     "data": {
      "image/png": "[encoded data removed]",
      "text/plain": [
       "<Figure size 432x288 with 1 Axes>"
      ]
     },
     "metadata": {
      "needs_background": "light"
     },
     "output_type": "display_data"
    },
    {
     "name": "stdout",
     "output_type": "stream",
     "text": [
      "(746, 48)\n",
      "Index(['BIOCO2_sum', 'BIOCO2_mean', 'BIOCO2_max', 'BIOCO2_count', 'CH4_sum',\n",
      "       'CH4_mean', 'CH4_max', 'CH4_count', 'N2O_sum', 'N2O_mean', 'N2O_max',\n",
      "       'N2O_count', 'CO2_sum', 'CO2_mean', 'CO2_max', 'CO2_count', 'SF6_sum',\n",
      "       'SF6_mean', 'SF6_max', 'SF6_count', 'Other_Full_sum', 'Other_Full_mean',\n",
      "       'Other_Full_max', 'Other_Full_count', 'PFC_sum', 'PFC_mean', 'PFC_max',\n",
      "       'PFC_count', 'HFC_sum', 'HFC_mean', 'HFC_max', 'HFC_count',\n",
      "       'Very_Short_sum', 'Very_Short_mean', 'Very_Short_max',\n",
      "       'Very_Short_count', 'HFE_sum', 'HFE_mean', 'HFE_max', 'HFE_count',\n",
      "       'NF3_sum', 'NF3_mean', 'NF3_max', 'NF3_count', 'Other_sum',\n",
      "       'Other_mean', 'Other_max', 'Other_count'],\n",
      "      dtype='object')\n",
      "V_GHG_EMITTER_GAS.COUNTY_FIPS\n"
     ]
    }
   ],
   "source": [
    "facilities_with_metrics = facilities_with_metrics.fillna(0)\n",
    "#facilities_with_metrics = facilities_with_metrics.dropna()\n",
    "plot_nan_heatmap(facilities_with_metrics)\n",
    "print(facilities_with_metrics.shape)\n",
    "print(facilities_with_metrics.columns)\n",
    "print(facilities_with_metrics.index.name)"
   ]
  },
  {
   "cell_type": "markdown",
   "metadata": {},
   "source": [
    "# Data Extraction from pm25 and AQI level, county-wise"
   ]
  },
  {
   "cell_type": "markdown",
   "metadata": {},
   "source": [
    "To compare the industry activity to PM2.5 levels, we use WHO's data on daily PM2.5 levels. This dataset gives all the concentrations in PM2.5 over the country from 2001 to 2016.\n",
    "\n",
    "There is one issue though, as these data relates to 2016 data. We will try to match them. This can make sense, as industry and factory take a long amount of time to become operational and stay like this for a long time.\n",
    "\n",
    "The source of the data is from: https://data.cdc.gov/Environmental-Health-Toxicology/Daily-PM2-5-Concentrations-All-County-2001-2016/7vdq-ztk9\n"
   ]
  },
  {
   "cell_type": "markdown",
   "metadata": {},
   "source": [
    "## Importing Data"
   ]
  },
  {
   "cell_type": "code",
   "execution_count": 227,
   "metadata": {},
   "outputs": [
    {
     "name": "stdout",
     "output_type": "stream",
     "text": [
      "Index(['year', 'date', 'statefips', 'countyfips', 'PM25_max_pred',\n",
      "       'PM25_med_pred', 'PM25_mean_pred', 'PM25_pop_pred'],\n",
      "      dtype='object')\n"
     ]
    },
    {
     "data": {
      "text/html": [
       "<div>\n",
       "<style scoped>\n",
       "    .dataframe tbody tr th:only-of-type {\n",
       "        vertical-align: middle;\n",
       "    }\n",
       "\n",
       "    .dataframe tbody tr th {\n",
       "        vertical-align: top;\n",
       "    }\n",
       "\n",
       "    .dataframe thead th {\n",
       "        text-align: right;\n",
       "    }\n",
       "</style>\n",
       "<table border=\"1\" class=\"dataframe\">\n",
       "  <thead>\n",
       "    <tr style=\"text-align: right;\">\n",
       "      <th></th>\n",
       "      <th>year</th>\n",
       "      <th>date</th>\n",
       "      <th>statefips</th>\n",
       "      <th>countyfips</th>\n",
       "      <th>PM25_max_pred</th>\n",
       "      <th>PM25_med_pred</th>\n",
       "      <th>PM25_mean_pred</th>\n",
       "      <th>PM25_pop_pred</th>\n",
       "    </tr>\n",
       "  </thead>\n",
       "  <tbody>\n",
       "    <tr>\n",
       "      <th>0</th>\n",
       "      <td>2001</td>\n",
       "      <td>01JAN2001</td>\n",
       "      <td>1</td>\n",
       "      <td>1</td>\n",
       "      <td>10.664367</td>\n",
       "      <td>10.264546</td>\n",
       "      <td>10.137631</td>\n",
       "      <td>10.188703</td>\n",
       "    </tr>\n",
       "    <tr>\n",
       "      <th>1</th>\n",
       "      <td>2001</td>\n",
       "      <td>01JAN2001</td>\n",
       "      <td>1</td>\n",
       "      <td>3</td>\n",
       "      <td>9.803209</td>\n",
       "      <td>8.739505</td>\n",
       "      <td>8.743748</td>\n",
       "      <td>8.811486</td>\n",
       "    </tr>\n",
       "    <tr>\n",
       "      <th>2</th>\n",
       "      <td>2001</td>\n",
       "      <td>01JAN2001</td>\n",
       "      <td>1</td>\n",
       "      <td>5</td>\n",
       "      <td>12.087599</td>\n",
       "      <td>11.809159</td>\n",
       "      <td>11.812775</td>\n",
       "      <td>11.802062</td>\n",
       "    </tr>\n",
       "    <tr>\n",
       "      <th>3</th>\n",
       "      <td>2001</td>\n",
       "      <td>01JAN2001</td>\n",
       "      <td>1</td>\n",
       "      <td>7</td>\n",
       "      <td>8.579425</td>\n",
       "      <td>8.435394</td>\n",
       "      <td>8.458118</td>\n",
       "      <td>8.448871</td>\n",
       "    </tr>\n",
       "    <tr>\n",
       "      <th>4</th>\n",
       "      <td>2001</td>\n",
       "      <td>01JAN2001</td>\n",
       "      <td>1</td>\n",
       "      <td>9</td>\n",
       "      <td>14.399446</td>\n",
       "      <td>13.577741</td>\n",
       "      <td>13.300528</td>\n",
       "      <td>13.231461</td>\n",
       "    </tr>\n",
       "  </tbody>\n",
       "</table>\n",
       "</div>"
      ],
      "text/plain": [
       "   year       date  statefips  countyfips  PM25_max_pred  PM25_med_pred  \\\n",
       "0  2001  01JAN2001          1           1      10.664367      10.264546   \n",
       "1  2001  01JAN2001          1           3       9.803209       8.739505   \n",
       "2  2001  01JAN2001          1           5      12.087599      11.809159   \n",
       "3  2001  01JAN2001          1           7       8.579425       8.435394   \n",
       "4  2001  01JAN2001          1           9      14.399446      13.577741   \n",
       "\n",
       "   PM25_mean_pred  PM25_pop_pred  \n",
       "0       10.137631      10.188703  \n",
       "1        8.743748       8.811486  \n",
       "2       11.812775      11.802062  \n",
       "3        8.458118       8.448871  \n",
       "4       13.300528      13.231461  "
      ]
     },
     "metadata": {},
     "output_type": "display_data"
    }
   ],
   "source": [
    "daily_pm25_concentrations = pd.read_csv('./raw/data/Daily_PM2.5_Concentrations_All_County__2001-2016.csv')\n",
    "print(daily_pm25_concentrations.columns)\n",
    "display(daily_pm25_concentrations.head(5))"
   ]
  },
  {
   "cell_type": "code",
   "execution_count": 228,
   "metadata": {},
   "outputs": [
    {
     "data": {
      "text/html": [
       "<div>\n",
       "<style scoped>\n",
       "    .dataframe tbody tr th:only-of-type {\n",
       "        vertical-align: middle;\n",
       "    }\n",
       "\n",
       "    .dataframe tbody tr th {\n",
       "        vertical-align: top;\n",
       "    }\n",
       "\n",
       "    .dataframe thead th {\n",
       "        text-align: right;\n",
       "    }\n",
       "</style>\n",
       "<table border=\"1\" class=\"dataframe\">\n",
       "  <thead>\n",
       "    <tr style=\"text-align: right;\">\n",
       "      <th></th>\n",
       "      <th>year</th>\n",
       "      <th>statefips</th>\n",
       "      <th>countyfips</th>\n",
       "      <th>PM25_max_pred</th>\n",
       "      <th>PM25_med_pred</th>\n",
       "      <th>PM25_mean_pred</th>\n",
       "      <th>PM25_pop_pred</th>\n",
       "    </tr>\n",
       "  </thead>\n",
       "  <tbody>\n",
       "    <tr>\n",
       "      <th>count</th>\n",
       "      <td>1.816900e+07</td>\n",
       "      <td>1.816900e+07</td>\n",
       "      <td>1.816900e+07</td>\n",
       "      <td>1.816900e+07</td>\n",
       "      <td>1.816900e+07</td>\n",
       "      <td>1.816900e+07</td>\n",
       "      <td>1.816900e+07</td>\n",
       "    </tr>\n",
       "    <tr>\n",
       "      <th>mean</th>\n",
       "      <td>2.008501e+03</td>\n",
       "      <td>3.057510e+01</td>\n",
       "      <td>1.034374e+02</td>\n",
       "      <td>1.004194e+01</td>\n",
       "      <td>9.623689e+00</td>\n",
       "      <td>9.609705e+00</td>\n",
       "      <td>9.615355e+00</td>\n",
       "    </tr>\n",
       "    <tr>\n",
       "      <th>std</th>\n",
       "      <td>4.609846e+00</td>\n",
       "      <td>1.496420e+01</td>\n",
       "      <td>1.080642e+02</td>\n",
       "      <td>5.472293e+00</td>\n",
       "      <td>5.186734e+00</td>\n",
       "      <td>5.172078e+00</td>\n",
       "      <td>5.173289e+00</td>\n",
       "    </tr>\n",
       "    <tr>\n",
       "      <th>min</th>\n",
       "      <td>2.001000e+03</td>\n",
       "      <td>1.000000e+00</td>\n",
       "      <td>1.000000e+00</td>\n",
       "      <td>6.982100e-02</td>\n",
       "      <td>6.982100e-02</td>\n",
       "      <td>6.982100e-02</td>\n",
       "      <td>6.982100e-02</td>\n",
       "    </tr>\n",
       "    <tr>\n",
       "      <th>25%</th>\n",
       "      <td>2.004750e+03</td>\n",
       "      <td>1.900000e+01</td>\n",
       "      <td>3.500000e+01</td>\n",
       "      <td>6.319216e+00</td>\n",
       "      <td>6.071293e+00</td>\n",
       "      <td>6.063907e+00</td>\n",
       "      <td>6.068806e+00</td>\n",
       "    </tr>\n",
       "    <tr>\n",
       "      <th>50%</th>\n",
       "      <td>2.008500e+03</td>\n",
       "      <td>2.900000e+01</td>\n",
       "      <td>7.900000e+01</td>\n",
       "      <td>8.826722e+00</td>\n",
       "      <td>8.485531e+00</td>\n",
       "      <td>8.475155e+00</td>\n",
       "      <td>8.480602e+00</td>\n",
       "    </tr>\n",
       "    <tr>\n",
       "      <th>75%</th>\n",
       "      <td>2.012250e+03</td>\n",
       "      <td>4.600000e+01</td>\n",
       "      <td>1.330000e+02</td>\n",
       "      <td>1.239479e+01</td>\n",
       "      <td>1.189990e+01</td>\n",
       "      <td>1.188481e+01</td>\n",
       "      <td>1.189112e+01</td>\n",
       "    </tr>\n",
       "    <tr>\n",
       "      <th>max</th>\n",
       "      <td>2.016000e+03</td>\n",
       "      <td>5.600000e+01</td>\n",
       "      <td>8.400000e+02</td>\n",
       "      <td>4.915291e+02</td>\n",
       "      <td>3.352757e+02</td>\n",
       "      <td>3.852261e+02</td>\n",
       "      <td>3.826642e+02</td>\n",
       "    </tr>\n",
       "  </tbody>\n",
       "</table>\n",
       "</div>"
      ],
      "text/plain": [
       "               year     statefips    countyfips  PM25_max_pred  PM25_med_pred  \\\n",
       "count  1.816900e+07  1.816900e+07  1.816900e+07   1.816900e+07   1.816900e+07   \n",
       "mean   2.008501e+03  3.057510e+01  1.034374e+02   1.004194e+01   9.623689e+00   \n",
       "std    4.609846e+00  1.496420e+01  1.080642e+02   5.472293e+00   5.186734e+00   \n",
       "min    2.001000e+03  1.000000e+00  1.000000e+00   6.982100e-02   6.982100e-02   \n",
       "25%    2.004750e+03  1.900000e+01  3.500000e+01   6.319216e+00   6.071293e+00   \n",
       "50%    2.008500e+03  2.900000e+01  7.900000e+01   8.826722e+00   8.485531e+00   \n",
       "75%    2.012250e+03  4.600000e+01  1.330000e+02   1.239479e+01   1.189990e+01   \n",
       "max    2.016000e+03  5.600000e+01  8.400000e+02   4.915291e+02   3.352757e+02   \n",
       "\n",
       "       PM25_mean_pred  PM25_pop_pred  \n",
       "count    1.816900e+07   1.816900e+07  \n",
       "mean     9.609705e+00   9.615355e+00  \n",
       "std      5.172078e+00   5.173289e+00  \n",
       "min      6.982100e-02   6.982100e-02  \n",
       "25%      6.063907e+00   6.068806e+00  \n",
       "50%      8.475155e+00   8.480602e+00  \n",
       "75%      1.188481e+01   1.189112e+01  \n",
       "max      3.852261e+02   3.826642e+02  "
      ]
     },
     "metadata": {},
     "output_type": "display_data"
    }
   ],
   "source": [
    "display(daily_pm25_concentrations.describe())"
   ]
  },
  {
   "cell_type": "markdown",
   "metadata": {},
   "source": [
    "## Feature Engineering and Selection\n",
    "\n",
    "### Adding readable County Fips\n",
    "\n",
    "The national county fips differs from the data we have here. We need to concatenate statefips and countyfips (here related to the state fips) to get the national fips as in the greenhouse gas emissions direct polluters datasets."
   ]
  },
  {
   "cell_type": "code",
   "execution_count": 229,
   "metadata": {},
   "outputs": [],
   "source": [
    "#print(daily_pm25_concentrations['statefips'].dtype, daily_pm25_concentrations['countyfips'].dtype)"
   ]
  },
  {
   "cell_type": "code",
   "execution_count": 230,
   "metadata": {},
   "outputs": [
    {
     "name": "stdout",
     "output_type": "stream",
     "text": [
      "01012\n"
     ]
    }
   ],
   "source": [
    "def get_national_county_fips(statefips: int, countyfips: int):\n",
    "    state = str(statefips)\n",
    "    county = str(countyfips)\n",
    "    if len(state) < 2:\n",
    "        nb_zeros_state = 2 - len(state)\n",
    "        state = '0' * nb_zeros_state + state\n",
    "    if len(county) < 3:\n",
    "        nb_zeros_county = 3 - len(county)\n",
    "        county = '0' * nb_zeros_county + county\n",
    "    return state + county\n",
    "\n",
    "# Quick check of the function's vailidity\n",
    "print(get_national_county_fips(1, 12))"
   ]
  },
  {
   "cell_type": "code",
   "execution_count": 231,
   "metadata": {},
   "outputs": [
    {
     "data": {
      "text/html": [
       "<div>\n",
       "<style scoped>\n",
       "    .dataframe tbody tr th:only-of-type {\n",
       "        vertical-align: middle;\n",
       "    }\n",
       "\n",
       "    .dataframe tbody tr th {\n",
       "        vertical-align: top;\n",
       "    }\n",
       "\n",
       "    .dataframe thead th {\n",
       "        text-align: right;\n",
       "    }\n",
       "</style>\n",
       "<table border=\"1\" class=\"dataframe\">\n",
       "  <thead>\n",
       "    <tr style=\"text-align: right;\">\n",
       "      <th></th>\n",
       "      <th>year</th>\n",
       "      <th>date</th>\n",
       "      <th>statefips</th>\n",
       "      <th>countyfips</th>\n",
       "      <th>PM25_max_pred</th>\n",
       "      <th>PM25_med_pred</th>\n",
       "      <th>PM25_mean_pred</th>\n",
       "      <th>PM25_pop_pred</th>\n",
       "      <th>COUNTY_FIPS</th>\n",
       "    </tr>\n",
       "  </thead>\n",
       "  <tbody>\n",
       "    <tr>\n",
       "      <th>0</th>\n",
       "      <td>2001</td>\n",
       "      <td>01JAN2001</td>\n",
       "      <td>1</td>\n",
       "      <td>1</td>\n",
       "      <td>10.664367</td>\n",
       "      <td>10.264546</td>\n",
       "      <td>10.137631</td>\n",
       "      <td>10.188703</td>\n",
       "      <td>01001</td>\n",
       "    </tr>\n",
       "    <tr>\n",
       "      <th>1</th>\n",
       "      <td>2001</td>\n",
       "      <td>01JAN2001</td>\n",
       "      <td>1</td>\n",
       "      <td>3</td>\n",
       "      <td>9.803209</td>\n",
       "      <td>8.739505</td>\n",
       "      <td>8.743748</td>\n",
       "      <td>8.811486</td>\n",
       "      <td>01003</td>\n",
       "    </tr>\n",
       "    <tr>\n",
       "      <th>2</th>\n",
       "      <td>2001</td>\n",
       "      <td>01JAN2001</td>\n",
       "      <td>1</td>\n",
       "      <td>5</td>\n",
       "      <td>12.087599</td>\n",
       "      <td>11.809159</td>\n",
       "      <td>11.812775</td>\n",
       "      <td>11.802062</td>\n",
       "      <td>01005</td>\n",
       "    </tr>\n",
       "    <tr>\n",
       "      <th>3</th>\n",
       "      <td>2001</td>\n",
       "      <td>01JAN2001</td>\n",
       "      <td>1</td>\n",
       "      <td>7</td>\n",
       "      <td>8.579425</td>\n",
       "      <td>8.435394</td>\n",
       "      <td>8.458118</td>\n",
       "      <td>8.448871</td>\n",
       "      <td>01007</td>\n",
       "    </tr>\n",
       "    <tr>\n",
       "      <th>4</th>\n",
       "      <td>2001</td>\n",
       "      <td>01JAN2001</td>\n",
       "      <td>1</td>\n",
       "      <td>9</td>\n",
       "      <td>14.399446</td>\n",
       "      <td>13.577741</td>\n",
       "      <td>13.300528</td>\n",
       "      <td>13.231461</td>\n",
       "      <td>01009</td>\n",
       "    </tr>\n",
       "    <tr>\n",
       "      <th>5</th>\n",
       "      <td>2001</td>\n",
       "      <td>01JAN2001</td>\n",
       "      <td>1</td>\n",
       "      <td>11</td>\n",
       "      <td>11.853907</td>\n",
       "      <td>11.824247</td>\n",
       "      <td>11.728350</td>\n",
       "      <td>11.774401</td>\n",
       "      <td>01011</td>\n",
       "    </tr>\n",
       "    <tr>\n",
       "      <th>6</th>\n",
       "      <td>2001</td>\n",
       "      <td>01JAN2001</td>\n",
       "      <td>1</td>\n",
       "      <td>13</td>\n",
       "      <td>9.864360</td>\n",
       "      <td>9.464236</td>\n",
       "      <td>9.338488</td>\n",
       "      <td>9.396299</td>\n",
       "      <td>01013</td>\n",
       "    </tr>\n",
       "    <tr>\n",
       "      <th>7</th>\n",
       "      <td>2001</td>\n",
       "      <td>01JAN2001</td>\n",
       "      <td>1</td>\n",
       "      <td>15</td>\n",
       "      <td>11.709136</td>\n",
       "      <td>11.213704</td>\n",
       "      <td>11.052942</td>\n",
       "      <td>11.008113</td>\n",
       "      <td>01015</td>\n",
       "    </tr>\n",
       "    <tr>\n",
       "      <th>8</th>\n",
       "      <td>2001</td>\n",
       "      <td>01JAN2001</td>\n",
       "      <td>1</td>\n",
       "      <td>17</td>\n",
       "      <td>11.313949</td>\n",
       "      <td>11.085331</td>\n",
       "      <td>11.004896</td>\n",
       "      <td>10.989000</td>\n",
       "      <td>01017</td>\n",
       "    </tr>\n",
       "    <tr>\n",
       "      <th>9</th>\n",
       "      <td>2001</td>\n",
       "      <td>01JAN2001</td>\n",
       "      <td>1</td>\n",
       "      <td>19</td>\n",
       "      <td>10.446544</td>\n",
       "      <td>8.686511</td>\n",
       "      <td>8.819224</td>\n",
       "      <td>8.922392</td>\n",
       "      <td>01019</td>\n",
       "    </tr>\n",
       "  </tbody>\n",
       "</table>\n",
       "</div>"
      ],
      "text/plain": [
       "   year       date  statefips  countyfips  PM25_max_pred  PM25_med_pred  \\\n",
       "0  2001  01JAN2001          1           1      10.664367      10.264546   \n",
       "1  2001  01JAN2001          1           3       9.803209       8.739505   \n",
       "2  2001  01JAN2001          1           5      12.087599      11.809159   \n",
       "3  2001  01JAN2001          1           7       8.579425       8.435394   \n",
       "4  2001  01JAN2001          1           9      14.399446      13.577741   \n",
       "5  2001  01JAN2001          1          11      11.853907      11.824247   \n",
       "6  2001  01JAN2001          1          13       9.864360       9.464236   \n",
       "7  2001  01JAN2001          1          15      11.709136      11.213704   \n",
       "8  2001  01JAN2001          1          17      11.313949      11.085331   \n",
       "9  2001  01JAN2001          1          19      10.446544       8.686511   \n",
       "\n",
       "   PM25_mean_pred  PM25_pop_pred COUNTY_FIPS  \n",
       "0       10.137631      10.188703       01001  \n",
       "1        8.743748       8.811486       01003  \n",
       "2       11.812775      11.802062       01005  \n",
       "3        8.458118       8.448871       01007  \n",
       "4       13.300528      13.231461       01009  \n",
       "5       11.728350      11.774401       01011  \n",
       "6        9.338488       9.396299       01013  \n",
       "7       11.052942      11.008113       01015  \n",
       "8       11.004896      10.989000       01017  \n",
       "9        8.819224       8.922392       01019  "
      ]
     },
     "metadata": {},
     "output_type": "display_data"
    }
   ],
   "source": [
    "daily_pm25_concentrations['COUNTY_FIPS'] = list(map(get_national_county_fips, daily_pm25_concentrations['statefips'], daily_pm25_concentrations['countyfips']))\n",
    "display(daily_pm25_concentrations.head(10))"
   ]
  },
  {
   "cell_type": "markdown",
   "metadata": {},
   "source": [
    "The feature engineering worked, so we will drop the 2 original columns."
   ]
  },
  {
   "cell_type": "code",
   "execution_count": 232,
   "metadata": {},
   "outputs": [
    {
     "data": {
      "text/html": [
       "<div>\n",
       "<style scoped>\n",
       "    .dataframe tbody tr th:only-of-type {\n",
       "        vertical-align: middle;\n",
       "    }\n",
       "\n",
       "    .dataframe tbody tr th {\n",
       "        vertical-align: top;\n",
       "    }\n",
       "\n",
       "    .dataframe thead th {\n",
       "        text-align: right;\n",
       "    }\n",
       "</style>\n",
       "<table border=\"1\" class=\"dataframe\">\n",
       "  <thead>\n",
       "    <tr style=\"text-align: right;\">\n",
       "      <th></th>\n",
       "      <th>year</th>\n",
       "      <th>date</th>\n",
       "      <th>PM25_max_pred</th>\n",
       "      <th>PM25_med_pred</th>\n",
       "      <th>PM25_mean_pred</th>\n",
       "      <th>PM25_pop_pred</th>\n",
       "      <th>COUNTY_FIPS</th>\n",
       "    </tr>\n",
       "  </thead>\n",
       "  <tbody>\n",
       "    <tr>\n",
       "      <th>0</th>\n",
       "      <td>2001</td>\n",
       "      <td>01JAN2001</td>\n",
       "      <td>10.664367</td>\n",
       "      <td>10.264546</td>\n",
       "      <td>10.137631</td>\n",
       "      <td>10.188703</td>\n",
       "      <td>01001</td>\n",
       "    </tr>\n",
       "    <tr>\n",
       "      <th>1</th>\n",
       "      <td>2001</td>\n",
       "      <td>01JAN2001</td>\n",
       "      <td>9.803209</td>\n",
       "      <td>8.739505</td>\n",
       "      <td>8.743748</td>\n",
       "      <td>8.811486</td>\n",
       "      <td>01003</td>\n",
       "    </tr>\n",
       "    <tr>\n",
       "      <th>2</th>\n",
       "      <td>2001</td>\n",
       "      <td>01JAN2001</td>\n",
       "      <td>12.087599</td>\n",
       "      <td>11.809159</td>\n",
       "      <td>11.812775</td>\n",
       "      <td>11.802062</td>\n",
       "      <td>01005</td>\n",
       "    </tr>\n",
       "    <tr>\n",
       "      <th>3</th>\n",
       "      <td>2001</td>\n",
       "      <td>01JAN2001</td>\n",
       "      <td>8.579425</td>\n",
       "      <td>8.435394</td>\n",
       "      <td>8.458118</td>\n",
       "      <td>8.448871</td>\n",
       "      <td>01007</td>\n",
       "    </tr>\n",
       "    <tr>\n",
       "      <th>4</th>\n",
       "      <td>2001</td>\n",
       "      <td>01JAN2001</td>\n",
       "      <td>14.399446</td>\n",
       "      <td>13.577741</td>\n",
       "      <td>13.300528</td>\n",
       "      <td>13.231461</td>\n",
       "      <td>01009</td>\n",
       "    </tr>\n",
       "  </tbody>\n",
       "</table>\n",
       "</div>"
      ],
      "text/plain": [
       "   year       date  PM25_max_pred  PM25_med_pred  PM25_mean_pred  \\\n",
       "0  2001  01JAN2001      10.664367      10.264546       10.137631   \n",
       "1  2001  01JAN2001       9.803209       8.739505        8.743748   \n",
       "2  2001  01JAN2001      12.087599      11.809159       11.812775   \n",
       "3  2001  01JAN2001       8.579425       8.435394        8.458118   \n",
       "4  2001  01JAN2001      14.399446      13.577741       13.300528   \n",
       "\n",
       "   PM25_pop_pred COUNTY_FIPS  \n",
       "0      10.188703       01001  \n",
       "1       8.811486       01003  \n",
       "2      11.802062       01005  \n",
       "3       8.448871       01007  \n",
       "4      13.231461       01009  "
      ]
     },
     "metadata": {},
     "output_type": "display_data"
    }
   ],
   "source": [
    "daily_pm25_concentrations = daily_pm25_concentrations.drop(['statefips', 'countyfips'], axis=1)\n",
    "display(daily_pm25_concentrations.head(5))"
   ]
  },
  {
   "cell_type": "markdown",
   "metadata": {},
   "source": [
    "### Taking Yearly Data for recent years\n",
    "\n",
    "As the data is daily and between 2001 and 2016, we need to account only for more recent data, and aggregate it over a year.\n",
    "\n",
    "To aggregate them, we take:\n",
    "- the annual max of the daily maximum\n",
    "- the annual mean of the daily mean\n",
    "- the annual median of the daily median\n",
    "- the annual mean of the daily mean normalized by the population within the county\n",
    "\n",
    "Also, we will use yearly data, so we can drop the date from now on.\n",
    "\n",
    "For the sake of this analysis, we will limit ourselves ot the data from the 2016 year. Unfortunately, this data from WHO is not from 2020, as the gas emitter data. We will hence use the most recent data, hence 2016."
   ]
  },
  {
   "cell_type": "code",
   "execution_count": 233,
   "metadata": {},
   "outputs": [
    {
     "name": "stdout",
     "output_type": "stream",
     "text": [
      "(1137894, 7)\n"
     ]
    }
   ],
   "source": [
    "daily_pm25_concentrations = daily_pm25_concentrations[daily_pm25_concentrations['year'] == 2016]\n",
    "print(daily_pm25_concentrations.shape)"
   ]
  },
  {
   "cell_type": "code",
   "execution_count": 234,
   "metadata": {},
   "outputs": [
    {
     "data": {
      "text/html": [
       "<div>\n",
       "<style scoped>\n",
       "    .dataframe tbody tr th:only-of-type {\n",
       "        vertical-align: middle;\n",
       "    }\n",
       "\n",
       "    .dataframe tbody tr th {\n",
       "        vertical-align: top;\n",
       "    }\n",
       "\n",
       "    .dataframe thead th {\n",
       "        text-align: right;\n",
       "    }\n",
       "</style>\n",
       "<table border=\"1\" class=\"dataframe\">\n",
       "  <thead>\n",
       "    <tr style=\"text-align: right;\">\n",
       "      <th></th>\n",
       "      <th>year</th>\n",
       "      <th>date</th>\n",
       "      <th>PM25_max_pred</th>\n",
       "      <th>PM25_med_pred</th>\n",
       "      <th>PM25_mean_pred</th>\n",
       "      <th>PM25_pop_pred</th>\n",
       "      <th>COUNTY_FIPS</th>\n",
       "    </tr>\n",
       "  </thead>\n",
       "  <tbody>\n",
       "    <tr>\n",
       "      <th>17031102</th>\n",
       "      <td>2016</td>\n",
       "      <td>01JAN2016</td>\n",
       "      <td>12.0355</td>\n",
       "      <td>11.1733</td>\n",
       "      <td>11.307642</td>\n",
       "      <td>11.319748</td>\n",
       "      <td>01001</td>\n",
       "    </tr>\n",
       "    <tr>\n",
       "      <th>17031103</th>\n",
       "      <td>2016</td>\n",
       "      <td>01JAN2016</td>\n",
       "      <td>9.1172</td>\n",
       "      <td>8.4860</td>\n",
       "      <td>8.497219</td>\n",
       "      <td>8.491186</td>\n",
       "      <td>01003</td>\n",
       "    </tr>\n",
       "    <tr>\n",
       "      <th>17031104</th>\n",
       "      <td>2016</td>\n",
       "      <td>01JAN2016</td>\n",
       "      <td>8.8989</td>\n",
       "      <td>8.3317</td>\n",
       "      <td>8.422811</td>\n",
       "      <td>8.431755</td>\n",
       "      <td>01005</td>\n",
       "    </tr>\n",
       "    <tr>\n",
       "      <th>17031105</th>\n",
       "      <td>2016</td>\n",
       "      <td>01JAN2016</td>\n",
       "      <td>11.7303</td>\n",
       "      <td>10.8514</td>\n",
       "      <td>10.992450</td>\n",
       "      <td>10.933287</td>\n",
       "      <td>01007</td>\n",
       "    </tr>\n",
       "    <tr>\n",
       "      <th>17031106</th>\n",
       "      <td>2016</td>\n",
       "      <td>01JAN2016</td>\n",
       "      <td>13.2247</td>\n",
       "      <td>12.8959</td>\n",
       "      <td>12.703789</td>\n",
       "      <td>12.707233</td>\n",
       "      <td>01009</td>\n",
       "    </tr>\n",
       "  </tbody>\n",
       "</table>\n",
       "</div>"
      ],
      "text/plain": [
       "          year       date  PM25_max_pred  PM25_med_pred  PM25_mean_pred  \\\n",
       "17031102  2016  01JAN2016        12.0355        11.1733       11.307642   \n",
       "17031103  2016  01JAN2016         9.1172         8.4860        8.497219   \n",
       "17031104  2016  01JAN2016         8.8989         8.3317        8.422811   \n",
       "17031105  2016  01JAN2016        11.7303        10.8514       10.992450   \n",
       "17031106  2016  01JAN2016        13.2247        12.8959       12.703789   \n",
       "\n",
       "          PM25_pop_pred COUNTY_FIPS  \n",
       "17031102      11.319748       01001  \n",
       "17031103       8.491186       01003  \n",
       "17031104       8.431755       01005  \n",
       "17031105      10.933287       01007  \n",
       "17031106      12.707233       01009  "
      ]
     },
     "metadata": {},
     "output_type": "display_data"
    }
   ],
   "source": [
    "daily_pm25_concentrations_2016 = daily_pm25_concentrations.drop(['date', 'year'], axis=1)\n",
    "display(daily_pm25_concentrations.head(5))"
   ]
  },
  {
   "cell_type": "markdown",
   "metadata": {},
   "source": [
    "We are now ready to mean the data over the 2016 year."
   ]
  },
  {
   "cell_type": "code",
   "execution_count": 235,
   "metadata": {},
   "outputs": [
    {
     "name": "stdout",
     "output_type": "stream",
     "text": [
      "Index(['PM25_max_pred', 'PM25_mean_pred', 'PM25_med_pred', 'PM25_pop_pred'], dtype='object')\n"
     ]
    },
    {
     "data": {
      "text/html": [
       "<div>\n",
       "<style scoped>\n",
       "    .dataframe tbody tr th:only-of-type {\n",
       "        vertical-align: middle;\n",
       "    }\n",
       "\n",
       "    .dataframe tbody tr th {\n",
       "        vertical-align: top;\n",
       "    }\n",
       "\n",
       "    .dataframe thead th {\n",
       "        text-align: right;\n",
       "    }\n",
       "</style>\n",
       "<table border=\"1\" class=\"dataframe\">\n",
       "  <thead>\n",
       "    <tr style=\"text-align: right;\">\n",
       "      <th></th>\n",
       "      <th>PM25_max_pred</th>\n",
       "      <th>PM25_mean_pred</th>\n",
       "      <th>PM25_med_pred</th>\n",
       "      <th>PM25_pop_pred</th>\n",
       "    </tr>\n",
       "    <tr>\n",
       "      <th>COUNTY_FIPS</th>\n",
       "      <th></th>\n",
       "      <th></th>\n",
       "      <th></th>\n",
       "      <th></th>\n",
       "    </tr>\n",
       "  </thead>\n",
       "  <tbody>\n",
       "    <tr>\n",
       "      <th>01001</th>\n",
       "      <td>22.7065</td>\n",
       "      <td>9.926942</td>\n",
       "      <td>9.578425</td>\n",
       "      <td>9.535828</td>\n",
       "    </tr>\n",
       "    <tr>\n",
       "      <th>01003</th>\n",
       "      <td>21.0927</td>\n",
       "      <td>8.303087</td>\n",
       "      <td>8.010600</td>\n",
       "      <td>7.976270</td>\n",
       "    </tr>\n",
       "    <tr>\n",
       "      <th>01005</th>\n",
       "      <td>21.1485</td>\n",
       "      <td>8.813391</td>\n",
       "      <td>8.251450</td>\n",
       "      <td>8.196378</td>\n",
       "    </tr>\n",
       "    <tr>\n",
       "      <th>01007</th>\n",
       "      <td>25.5906</td>\n",
       "      <td>9.480694</td>\n",
       "      <td>8.946725</td>\n",
       "      <td>8.950332</td>\n",
       "    </tr>\n",
       "    <tr>\n",
       "      <th>01009</th>\n",
       "      <td>27.0350</td>\n",
       "      <td>10.029488</td>\n",
       "      <td>9.854800</td>\n",
       "      <td>9.836657</td>\n",
       "    </tr>\n",
       "    <tr>\n",
       "      <th>...</th>\n",
       "      <td>...</td>\n",
       "      <td>...</td>\n",
       "      <td>...</td>\n",
       "      <td>...</td>\n",
       "    </tr>\n",
       "    <tr>\n",
       "      <th>56037</th>\n",
       "      <td>30.6036</td>\n",
       "      <td>5.014473</td>\n",
       "      <td>4.512650</td>\n",
       "      <td>4.522330</td>\n",
       "    </tr>\n",
       "    <tr>\n",
       "      <th>56039</th>\n",
       "      <td>26.7337</td>\n",
       "      <td>4.751971</td>\n",
       "      <td>3.967575</td>\n",
       "      <td>3.909301</td>\n",
       "    </tr>\n",
       "    <tr>\n",
       "      <th>56041</th>\n",
       "      <td>25.1531</td>\n",
       "      <td>5.804105</td>\n",
       "      <td>5.003400</td>\n",
       "      <td>5.056456</td>\n",
       "    </tr>\n",
       "    <tr>\n",
       "      <th>56043</th>\n",
       "      <td>19.3705</td>\n",
       "      <td>3.893485</td>\n",
       "      <td>3.467300</td>\n",
       "      <td>3.296185</td>\n",
       "    </tr>\n",
       "    <tr>\n",
       "      <th>56045</th>\n",
       "      <td>21.8052</td>\n",
       "      <td>3.351007</td>\n",
       "      <td>2.991200</td>\n",
       "      <td>2.999343</td>\n",
       "    </tr>\n",
       "  </tbody>\n",
       "</table>\n",
       "<p>3109 rows × 4 columns</p>\n",
       "</div>"
      ],
      "text/plain": [
       "             PM25_max_pred  PM25_mean_pred  PM25_med_pred  PM25_pop_pred\n",
       "COUNTY_FIPS                                                             \n",
       "01001              22.7065        9.926942       9.578425       9.535828\n",
       "01003              21.0927        8.303087       8.010600       7.976270\n",
       "01005              21.1485        8.813391       8.251450       8.196378\n",
       "01007              25.5906        9.480694       8.946725       8.950332\n",
       "01009              27.0350       10.029488       9.854800       9.836657\n",
       "...                    ...             ...            ...            ...\n",
       "56037              30.6036        5.014473       4.512650       4.522330\n",
       "56039              26.7337        4.751971       3.967575       3.909301\n",
       "56041              25.1531        5.804105       5.003400       5.056456\n",
       "56043              19.3705        3.893485       3.467300       3.296185\n",
       "56045              21.8052        3.351007       2.991200       2.999343\n",
       "\n",
       "[3109 rows x 4 columns]"
      ]
     },
     "metadata": {},
     "output_type": "display_data"
    }
   ],
   "source": [
    "yearly_pm25_concentrations_2016 = daily_pm25_concentrations_2016.groupby('COUNTY_FIPS').agg({\"PM25_max_pred\": np.max, \"PM25_mean_pred\": np.mean, \"PM25_med_pred\": np.median, \"PM25_pop_pred\": np.median})\n",
    "print(yearly_pm25_concentrations_2016.columns)\n",
    "display(yearly_pm25_concentrations_2016)"
   ]
  },
  {
   "cell_type": "markdown",
   "metadata": {},
   "source": [
    "## Data Cleaning"
   ]
  },
  {
   "cell_type": "code",
   "execution_count": 236,
   "metadata": {},
   "outputs": [
    {
     "data": {
      "image/png": "[encoded data removed]",
      "text/plain": [
       "<Figure size 432x288 with 1 Axes>"
      ]
     },
     "metadata": {
      "needs_background": "light"
     },
     "output_type": "display_data"
    }
   ],
   "source": [
    "plot_nan_heatmap(yearly_pm25_concentrations_2016)"
   ]
  },
  {
   "cell_type": "markdown",
   "metadata": {},
   "source": [
    "# Joining the data"
   ]
  },
  {
   "cell_type": "markdown",
   "metadata": {},
   "source": [
    "### Preparing the join"
   ]
  },
  {
   "cell_type": "code",
   "execution_count": 237,
   "metadata": {},
   "outputs": [
    {
     "data": {
      "text/plain": [
       "Index(['BIOCO2_sum', 'BIOCO2_mean', 'BIOCO2_max', 'BIOCO2_count', 'CH4_sum',\n",
       "       'CH4_mean', 'CH4_max', 'CH4_count', 'N2O_sum', 'N2O_mean', 'N2O_max',\n",
       "       'N2O_count', 'CO2_sum', 'CO2_mean', 'CO2_max', 'CO2_count', 'SF6_sum',\n",
       "       'SF6_mean', 'SF6_max', 'SF6_count', 'Other_Full_sum', 'Other_Full_mean',\n",
       "       'Other_Full_max', 'Other_Full_count', 'PFC_sum', 'PFC_mean', 'PFC_max',\n",
       "       'PFC_count', 'HFC_sum', 'HFC_mean', 'HFC_max', 'HFC_count',\n",
       "       'Very_Short_sum', 'Very_Short_mean', 'Very_Short_max',\n",
       "       'Very_Short_count', 'HFE_sum', 'HFE_mean', 'HFE_max', 'HFE_count',\n",
       "       'NF3_sum', 'NF3_mean', 'NF3_max', 'NF3_count', 'Other_sum',\n",
       "       'Other_mean', 'Other_max', 'Other_count'],\n",
       "      dtype='object')"
      ]
     },
     "execution_count": 237,
     "metadata": {},
     "output_type": "execute_result"
    }
   ],
   "source": [
    "facilities_with_metrics.columns"
   ]
  },
  {
   "cell_type": "code",
   "execution_count": 238,
   "metadata": {},
   "outputs": [
    {
     "data": {
      "text/html": [
       "<div>\n",
       "<style scoped>\n",
       "    .dataframe tbody tr th:only-of-type {\n",
       "        vertical-align: middle;\n",
       "    }\n",
       "\n",
       "    .dataframe tbody tr th {\n",
       "        vertical-align: top;\n",
       "    }\n",
       "\n",
       "    .dataframe thead th {\n",
       "        text-align: right;\n",
       "    }\n",
       "</style>\n",
       "<table border=\"1\" class=\"dataframe\">\n",
       "  <thead>\n",
       "    <tr style=\"text-align: right;\">\n",
       "      <th></th>\n",
       "      <th>BIOCO2_sum</th>\n",
       "      <th>BIOCO2_mean</th>\n",
       "      <th>BIOCO2_max</th>\n",
       "      <th>BIOCO2_count</th>\n",
       "      <th>CH4_sum</th>\n",
       "      <th>CH4_mean</th>\n",
       "      <th>CH4_max</th>\n",
       "      <th>CH4_count</th>\n",
       "      <th>N2O_sum</th>\n",
       "      <th>N2O_mean</th>\n",
       "      <th>...</th>\n",
       "      <th>HFE_max</th>\n",
       "      <th>HFE_count</th>\n",
       "      <th>NF3_sum</th>\n",
       "      <th>NF3_mean</th>\n",
       "      <th>NF3_max</th>\n",
       "      <th>NF3_count</th>\n",
       "      <th>Other_sum</th>\n",
       "      <th>Other_mean</th>\n",
       "      <th>Other_max</th>\n",
       "      <th>Other_count</th>\n",
       "    </tr>\n",
       "    <tr>\n",
       "      <th>COUNTY_FIPS</th>\n",
       "      <th></th>\n",
       "      <th></th>\n",
       "      <th></th>\n",
       "      <th></th>\n",
       "      <th></th>\n",
       "      <th></th>\n",
       "      <th></th>\n",
       "      <th></th>\n",
       "      <th></th>\n",
       "      <th></th>\n",
       "      <th></th>\n",
       "      <th></th>\n",
       "      <th></th>\n",
       "      <th></th>\n",
       "      <th></th>\n",
       "      <th></th>\n",
       "      <th></th>\n",
       "      <th></th>\n",
       "      <th></th>\n",
       "      <th></th>\n",
       "      <th></th>\n",
       "    </tr>\n",
       "  </thead>\n",
       "  <tbody>\n",
       "    <tr>\n",
       "      <th>01001</th>\n",
       "      <td>15966402.8</td>\n",
       "      <td>1683572.3</td>\n",
       "      <td>1683572.3</td>\n",
       "      <td>10</td>\n",
       "      <td>7.654065e+05</td>\n",
       "      <td>49504.500</td>\n",
       "      <td>49504.500</td>\n",
       "      <td>58</td>\n",
       "      <td>140641.994000</td>\n",
       "      <td>24355.540</td>\n",
       "      <td>...</td>\n",
       "      <td>0.0</td>\n",
       "      <td>0.0</td>\n",
       "      <td>0.0</td>\n",
       "      <td>0.0</td>\n",
       "      <td>0.0</td>\n",
       "      <td>0.0</td>\n",
       "      <td>0.0</td>\n",
       "      <td>0.0</td>\n",
       "      <td>0.0</td>\n",
       "      <td>0.0</td>\n",
       "    </tr>\n",
       "    <tr>\n",
       "      <th>01015</th>\n",
       "      <td>4.1</td>\n",
       "      <td>4.1</td>\n",
       "      <td>4.1</td>\n",
       "      <td>1</td>\n",
       "      <td>2.201222e+05</td>\n",
       "      <td>78775.825</td>\n",
       "      <td>78775.825</td>\n",
       "      <td>50</td>\n",
       "      <td>1609.282248</td>\n",
       "      <td>123.670</td>\n",
       "      <td>...</td>\n",
       "      <td>0.0</td>\n",
       "      <td>0.0</td>\n",
       "      <td>0.0</td>\n",
       "      <td>0.0</td>\n",
       "      <td>0.0</td>\n",
       "      <td>0.0</td>\n",
       "      <td>0.0</td>\n",
       "      <td>0.0</td>\n",
       "      <td>0.0</td>\n",
       "      <td>0.0</td>\n",
       "    </tr>\n",
       "    <tr>\n",
       "      <th>01023</th>\n",
       "      <td>10137261.8</td>\n",
       "      <td>1126386.1</td>\n",
       "      <td>1126386.1</td>\n",
       "      <td>10</td>\n",
       "      <td>1.126912e+06</td>\n",
       "      <td>117301.750</td>\n",
       "      <td>117301.750</td>\n",
       "      <td>38</td>\n",
       "      <td>81124.242000</td>\n",
       "      <td>18100.520</td>\n",
       "      <td>...</td>\n",
       "      <td>0.0</td>\n",
       "      <td>0.0</td>\n",
       "      <td>0.0</td>\n",
       "      <td>0.0</td>\n",
       "      <td>0.0</td>\n",
       "      <td>0.0</td>\n",
       "      <td>0.0</td>\n",
       "      <td>0.0</td>\n",
       "      <td>0.0</td>\n",
       "      <td>0.0</td>\n",
       "    </tr>\n",
       "    <tr>\n",
       "      <th>01025</th>\n",
       "      <td>7011926.8</td>\n",
       "      <td>749337.7</td>\n",
       "      <td>749337.7</td>\n",
       "      <td>10</td>\n",
       "      <td>1.158132e+05</td>\n",
       "      <td>14424.750</td>\n",
       "      <td>14424.750</td>\n",
       "      <td>37</td>\n",
       "      <td>51680.352000</td>\n",
       "      <td>10684.194</td>\n",
       "      <td>...</td>\n",
       "      <td>0.0</td>\n",
       "      <td>0.0</td>\n",
       "      <td>0.0</td>\n",
       "      <td>0.0</td>\n",
       "      <td>0.0</td>\n",
       "      <td>0.0</td>\n",
       "      <td>0.0</td>\n",
       "      <td>0.0</td>\n",
       "      <td>0.0</td>\n",
       "      <td>0.0</td>\n",
       "    </tr>\n",
       "    <tr>\n",
       "      <th>01043</th>\n",
       "      <td>18745.2</td>\n",
       "      <td>4562.5</td>\n",
       "      <td>4562.5</td>\n",
       "      <td>8</td>\n",
       "      <td>4.993620e+05</td>\n",
       "      <td>60614.250</td>\n",
       "      <td>60614.250</td>\n",
       "      <td>25</td>\n",
       "      <td>562.624000</td>\n",
       "      <td>63.474</td>\n",
       "      <td>...</td>\n",
       "      <td>0.0</td>\n",
       "      <td>0.0</td>\n",
       "      <td>0.0</td>\n",
       "      <td>0.0</td>\n",
       "      <td>0.0</td>\n",
       "      <td>0.0</td>\n",
       "      <td>0.0</td>\n",
       "      <td>0.0</td>\n",
       "      <td>0.0</td>\n",
       "      <td>0.0</td>\n",
       "    </tr>\n",
       "  </tbody>\n",
       "</table>\n",
       "<p>5 rows × 48 columns</p>\n",
       "</div>"
      ],
      "text/plain": [
       "             BIOCO2_sum  BIOCO2_mean  BIOCO2_max  BIOCO2_count       CH4_sum  \\\n",
       "COUNTY_FIPS                                                                    \n",
       "01001        15966402.8    1683572.3   1683572.3            10  7.654065e+05   \n",
       "01015               4.1          4.1         4.1             1  2.201222e+05   \n",
       "01023        10137261.8    1126386.1   1126386.1            10  1.126912e+06   \n",
       "01025         7011926.8     749337.7    749337.7            10  1.158132e+05   \n",
       "01043           18745.2       4562.5      4562.5             8  4.993620e+05   \n",
       "\n",
       "               CH4_mean     CH4_max  CH4_count        N2O_sum   N2O_mean  ...  \\\n",
       "COUNTY_FIPS                                                               ...   \n",
       "01001         49504.500   49504.500         58  140641.994000  24355.540  ...   \n",
       "01015         78775.825   78775.825         50    1609.282248    123.670  ...   \n",
       "01023        117301.750  117301.750         38   81124.242000  18100.520  ...   \n",
       "01025         14424.750   14424.750         37   51680.352000  10684.194  ...   \n",
       "01043         60614.250   60614.250         25     562.624000     63.474  ...   \n",
       "\n",
       "             HFE_max  HFE_count  NF3_sum  NF3_mean  NF3_max  NF3_count  \\\n",
       "COUNTY_FIPS                                                              \n",
       "01001            0.0        0.0      0.0       0.0      0.0        0.0   \n",
       "01015            0.0        0.0      0.0       0.0      0.0        0.0   \n",
       "01023            0.0        0.0      0.0       0.0      0.0        0.0   \n",
       "01025            0.0        0.0      0.0       0.0      0.0        0.0   \n",
       "01043            0.0        0.0      0.0       0.0      0.0        0.0   \n",
       "\n",
       "             Other_sum  Other_mean  Other_max  Other_count  \n",
       "COUNTY_FIPS                                                 \n",
       "01001              0.0         0.0        0.0          0.0  \n",
       "01015              0.0         0.0        0.0          0.0  \n",
       "01023              0.0         0.0        0.0          0.0  \n",
       "01025              0.0         0.0        0.0          0.0  \n",
       "01043              0.0         0.0        0.0          0.0  \n",
       "\n",
       "[5 rows x 48 columns]"
      ]
     },
     "metadata": {},
     "output_type": "display_data"
    },
    {
     "name": "stdout",
     "output_type": "stream",
     "text": [
      "Index(['BIOCO2_sum', 'BIOCO2_mean', 'BIOCO2_max', 'BIOCO2_count', 'CH4_sum',\n",
      "       'CH4_mean', 'CH4_max', 'CH4_count', 'N2O_sum', 'N2O_mean', 'N2O_max',\n",
      "       'N2O_count', 'CO2_sum', 'CO2_mean', 'CO2_max', 'CO2_count', 'SF6_sum',\n",
      "       'SF6_mean', 'SF6_max', 'SF6_count', 'Other_Full_sum', 'Other_Full_mean',\n",
      "       'Other_Full_max', 'Other_Full_count', 'PFC_sum', 'PFC_mean', 'PFC_max',\n",
      "       'PFC_count', 'HFC_sum', 'HFC_mean', 'HFC_max', 'HFC_count',\n",
      "       'Very_Short_sum', 'Very_Short_mean', 'Very_Short_max',\n",
      "       'Very_Short_count', 'HFE_sum', 'HFE_mean', 'HFE_max', 'HFE_count',\n",
      "       'NF3_sum', 'NF3_mean', 'NF3_max', 'NF3_count', 'Other_sum',\n",
      "       'Other_mean', 'Other_max', 'Other_count'],\n",
      "      dtype='object')\n"
     ]
    }
   ],
   "source": [
    "def add_zero_if_needed(fips):\n",
    "    if len(fips) < 5:\n",
    "        nb_zeros = 5 - len(fips)\n",
    "        return '0' * nb_zeros + fips\n",
    "    else:\n",
    "        return fips\n",
    "\n",
    "facilities_with_metrics['COUNTY_FIPS'] = [add_zero_if_needed(str(int(fips))) for fips in facilities_with_metrics.index.values]\n",
    "facilities_with_metrics = facilities_with_metrics.set_index('COUNTY_FIPS')\n",
    "display(facilities_with_metrics.head(5))\n",
    "print(facilities_with_metrics.columns)"
   ]
  },
  {
   "cell_type": "markdown",
   "metadata": {},
   "source": [
    "### Join the tables"
   ]
  },
  {
   "cell_type": "code",
   "execution_count": 239,
   "metadata": {},
   "outputs": [
    {
     "data": {
      "text/html": [
       "<div>\n",
       "<style scoped>\n",
       "    .dataframe tbody tr th:only-of-type {\n",
       "        vertical-align: middle;\n",
       "    }\n",
       "\n",
       "    .dataframe tbody tr th {\n",
       "        vertical-align: top;\n",
       "    }\n",
       "\n",
       "    .dataframe thead th {\n",
       "        text-align: right;\n",
       "    }\n",
       "</style>\n",
       "<table border=\"1\" class=\"dataframe\">\n",
       "  <thead>\n",
       "    <tr style=\"text-align: right;\">\n",
       "      <th></th>\n",
       "      <th>COUNTY_FIPS</th>\n",
       "      <th>PM25_max_pred</th>\n",
       "      <th>PM25_mean_pred</th>\n",
       "      <th>PM25_med_pred</th>\n",
       "      <th>PM25_pop_pred</th>\n",
       "      <th>BIOCO2_sum</th>\n",
       "      <th>BIOCO2_mean</th>\n",
       "      <th>BIOCO2_max</th>\n",
       "      <th>BIOCO2_count</th>\n",
       "      <th>CH4_sum</th>\n",
       "      <th>...</th>\n",
       "      <th>HFE_max</th>\n",
       "      <th>HFE_count</th>\n",
       "      <th>NF3_sum</th>\n",
       "      <th>NF3_mean</th>\n",
       "      <th>NF3_max</th>\n",
       "      <th>NF3_count</th>\n",
       "      <th>Other_sum</th>\n",
       "      <th>Other_mean</th>\n",
       "      <th>Other_max</th>\n",
       "      <th>Other_count</th>\n",
       "    </tr>\n",
       "  </thead>\n",
       "  <tbody>\n",
       "    <tr>\n",
       "      <th>01001</th>\n",
       "      <td>01001</td>\n",
       "      <td>22.7065</td>\n",
       "      <td>9.926942</td>\n",
       "      <td>9.578425</td>\n",
       "      <td>9.535828</td>\n",
       "      <td>15966402.8</td>\n",
       "      <td>1683572.3</td>\n",
       "      <td>1683572.3</td>\n",
       "      <td>10.0</td>\n",
       "      <td>765406.5</td>\n",
       "      <td>...</td>\n",
       "      <td>0.0</td>\n",
       "      <td>0.0</td>\n",
       "      <td>0.0</td>\n",
       "      <td>0.0</td>\n",
       "      <td>0.0</td>\n",
       "      <td>0.0</td>\n",
       "      <td>0.0</td>\n",
       "      <td>0.0</td>\n",
       "      <td>0.0</td>\n",
       "      <td>0.0</td>\n",
       "    </tr>\n",
       "    <tr>\n",
       "      <th>01003</th>\n",
       "      <td>01003</td>\n",
       "      <td>21.0927</td>\n",
       "      <td>8.303087</td>\n",
       "      <td>8.010600</td>\n",
       "      <td>7.976270</td>\n",
       "      <td>NaN</td>\n",
       "      <td>NaN</td>\n",
       "      <td>NaN</td>\n",
       "      <td>NaN</td>\n",
       "      <td>NaN</td>\n",
       "      <td>...</td>\n",
       "      <td>NaN</td>\n",
       "      <td>NaN</td>\n",
       "      <td>NaN</td>\n",
       "      <td>NaN</td>\n",
       "      <td>NaN</td>\n",
       "      <td>NaN</td>\n",
       "      <td>NaN</td>\n",
       "      <td>NaN</td>\n",
       "      <td>NaN</td>\n",
       "      <td>NaN</td>\n",
       "    </tr>\n",
       "    <tr>\n",
       "      <th>01005</th>\n",
       "      <td>01005</td>\n",
       "      <td>21.1485</td>\n",
       "      <td>8.813391</td>\n",
       "      <td>8.251450</td>\n",
       "      <td>8.196378</td>\n",
       "      <td>NaN</td>\n",
       "      <td>NaN</td>\n",
       "      <td>NaN</td>\n",
       "      <td>NaN</td>\n",
       "      <td>NaN</td>\n",
       "      <td>...</td>\n",
       "      <td>NaN</td>\n",
       "      <td>NaN</td>\n",
       "      <td>NaN</td>\n",
       "      <td>NaN</td>\n",
       "      <td>NaN</td>\n",
       "      <td>NaN</td>\n",
       "      <td>NaN</td>\n",
       "      <td>NaN</td>\n",
       "      <td>NaN</td>\n",
       "      <td>NaN</td>\n",
       "    </tr>\n",
       "    <tr>\n",
       "      <th>01007</th>\n",
       "      <td>01007</td>\n",
       "      <td>25.5906</td>\n",
       "      <td>9.480694</td>\n",
       "      <td>8.946725</td>\n",
       "      <td>8.950332</td>\n",
       "      <td>NaN</td>\n",
       "      <td>NaN</td>\n",
       "      <td>NaN</td>\n",
       "      <td>NaN</td>\n",
       "      <td>NaN</td>\n",
       "      <td>...</td>\n",
       "      <td>NaN</td>\n",
       "      <td>NaN</td>\n",
       "      <td>NaN</td>\n",
       "      <td>NaN</td>\n",
       "      <td>NaN</td>\n",
       "      <td>NaN</td>\n",
       "      <td>NaN</td>\n",
       "      <td>NaN</td>\n",
       "      <td>NaN</td>\n",
       "      <td>NaN</td>\n",
       "    </tr>\n",
       "    <tr>\n",
       "      <th>01009</th>\n",
       "      <td>01009</td>\n",
       "      <td>27.0350</td>\n",
       "      <td>10.029488</td>\n",
       "      <td>9.854800</td>\n",
       "      <td>9.836657</td>\n",
       "      <td>NaN</td>\n",
       "      <td>NaN</td>\n",
       "      <td>NaN</td>\n",
       "      <td>NaN</td>\n",
       "      <td>NaN</td>\n",
       "      <td>...</td>\n",
       "      <td>NaN</td>\n",
       "      <td>NaN</td>\n",
       "      <td>NaN</td>\n",
       "      <td>NaN</td>\n",
       "      <td>NaN</td>\n",
       "      <td>NaN</td>\n",
       "      <td>NaN</td>\n",
       "      <td>NaN</td>\n",
       "      <td>NaN</td>\n",
       "      <td>NaN</td>\n",
       "    </tr>\n",
       "  </tbody>\n",
       "</table>\n",
       "<p>5 rows × 53 columns</p>\n",
       "</div>"
      ],
      "text/plain": [
       "      COUNTY_FIPS  PM25_max_pred  PM25_mean_pred  PM25_med_pred  \\\n",
       "01001       01001        22.7065        9.926942       9.578425   \n",
       "01003       01003        21.0927        8.303087       8.010600   \n",
       "01005       01005        21.1485        8.813391       8.251450   \n",
       "01007       01007        25.5906        9.480694       8.946725   \n",
       "01009       01009        27.0350       10.029488       9.854800   \n",
       "\n",
       "       PM25_pop_pred  BIOCO2_sum  BIOCO2_mean  BIOCO2_max  BIOCO2_count  \\\n",
       "01001       9.535828  15966402.8    1683572.3   1683572.3          10.0   \n",
       "01003       7.976270         NaN          NaN         NaN           NaN   \n",
       "01005       8.196378         NaN          NaN         NaN           NaN   \n",
       "01007       8.950332         NaN          NaN         NaN           NaN   \n",
       "01009       9.836657         NaN          NaN         NaN           NaN   \n",
       "\n",
       "        CH4_sum  ...  HFE_max  HFE_count  NF3_sum  NF3_mean  NF3_max  \\\n",
       "01001  765406.5  ...      0.0        0.0      0.0       0.0      0.0   \n",
       "01003       NaN  ...      NaN        NaN      NaN       NaN      NaN   \n",
       "01005       NaN  ...      NaN        NaN      NaN       NaN      NaN   \n",
       "01007       NaN  ...      NaN        NaN      NaN       NaN      NaN   \n",
       "01009       NaN  ...      NaN        NaN      NaN       NaN      NaN   \n",
       "\n",
       "       NF3_count  Other_sum  Other_mean  Other_max  Other_count  \n",
       "01001        0.0        0.0         0.0        0.0          0.0  \n",
       "01003        NaN        NaN         NaN        NaN          NaN  \n",
       "01005        NaN        NaN         NaN        NaN          NaN  \n",
       "01007        NaN        NaN         NaN        NaN          NaN  \n",
       "01009        NaN        NaN         NaN        NaN          NaN  \n",
       "\n",
       "[5 rows x 53 columns]"
      ]
     },
     "metadata": {},
     "output_type": "display_data"
    },
    {
     "name": "stdout",
     "output_type": "stream",
     "text": [
      "Index(['COUNTY_FIPS', 'PM25_max_pred', 'PM25_mean_pred', 'PM25_med_pred',\n",
      "       'PM25_pop_pred', 'BIOCO2_sum', 'BIOCO2_mean', 'BIOCO2_max',\n",
      "       'BIOCO2_count', 'CH4_sum', 'CH4_mean', 'CH4_max', 'CH4_count',\n",
      "       'N2O_sum', 'N2O_mean', 'N2O_max', 'N2O_count', 'CO2_sum', 'CO2_mean',\n",
      "       'CO2_max', 'CO2_count', 'SF6_sum', 'SF6_mean', 'SF6_max', 'SF6_count',\n",
      "       'Other_Full_sum', 'Other_Full_mean', 'Other_Full_max',\n",
      "       'Other_Full_count', 'PFC_sum', 'PFC_mean', 'PFC_max', 'PFC_count',\n",
      "       'HFC_sum', 'HFC_mean', 'HFC_max', 'HFC_count', 'Very_Short_sum',\n",
      "       'Very_Short_mean', 'Very_Short_max', 'Very_Short_count', 'HFE_sum',\n",
      "       'HFE_mean', 'HFE_max', 'HFE_count', 'NF3_sum', 'NF3_mean', 'NF3_max',\n",
      "       'NF3_count', 'Other_sum', 'Other_mean', 'Other_max', 'Other_count'],\n",
      "      dtype='object')\n"
     ]
    }
   ],
   "source": [
    "df_pm_emit = yearly_pm25_concentrations_2016.join(facilities_with_metrics, on='COUNTY_FIPS', how='outer')\n",
    "display(df_pm_emit.head(5))\n",
    "print(df_pm_emit.columns)"
   ]
  },
  {
   "cell_type": "markdown",
   "metadata": {},
   "source": [
    "### Data cleaning"
   ]
  },
  {
   "cell_type": "code",
   "execution_count": 240,
   "metadata": {},
   "outputs": [
    {
     "data": {
      "image/png": "[encoded data removed]",
      "text/plain": [
       "<Figure size 432x288 with 1 Axes>"
      ]
     },
     "metadata": {
      "needs_background": "light"
     },
     "output_type": "display_data"
    }
   ],
   "source": [
    "plot_nan_heatmap(df_pm_emit)"
   ]
  },
  {
   "cell_type": "markdown",
   "metadata": {},
   "source": [
    "The data from the yearly concentrations encompasses a lot more counties than our data over the pollution emitters."
   ]
  },
  {
   "cell_type": "code",
   "execution_count": 241,
   "metadata": {},
   "outputs": [
    {
     "name": "stdout",
     "output_type": "stream",
     "text": [
      "3109\n",
      "746\n"
     ]
    }
   ],
   "source": [
    "print(len(yearly_pm25_concentrations_2016.index))\n",
    "print(len(facilities_with_metrics.index))"
   ]
  },
  {
   "cell_type": "markdown",
   "metadata": {},
   "source": [
    "Hence, we will drop the NaN rows."
   ]
  },
  {
   "cell_type": "code",
   "execution_count": 242,
   "metadata": {},
   "outputs": [
    {
     "name": "stdout",
     "output_type": "stream",
     "text": [
      "(732, 53)\n"
     ]
    }
   ],
   "source": [
    "df_pm_emit = df_pm_emit.dropna()\n",
    "print(df_pm_emit.shape)"
   ]
  },
  {
   "cell_type": "markdown",
   "metadata": {},
   "source": [
    "# Analyse the correlation"
   ]
  },
  {
   "cell_type": "code",
   "execution_count": 243,
   "metadata": {},
   "outputs": [
    {
     "data": {
      "image/png": "[encoded data removed]",
      "text/plain": [
       "<Figure size 1080x1080 with 2 Axes>"
      ]
     },
     "metadata": {
      "needs_background": "light"
     },
     "output_type": "display_data"
    }
   ],
   "source": [
    "plt.figure(figsize=(15,15))\n",
    "dataplot = sns.heatmap(df_pm_emit.corr(), cmap=\"YlGnBu\", annot=False)\n",
    "plt.show()"
   ]
  },
  {
   "cell_type": "code",
   "execution_count": 245,
   "metadata": {},
   "outputs": [
    {
     "data": {
      "text/plain": [
       "<AxesSubplot:xlabel='CH4_sum', ylabel='PM25_mean_pred'>"
      ]
     },
     "execution_count": 245,
     "metadata": {},
     "output_type": "execute_result"
    },
    {
     "data": {
      "image/png": "[encoded data removed]",
      "text/plain": [
       "<Figure size 432x288 with 1 Axes>"
      ]
     },
     "metadata": {
      "needs_background": "light"
     },
     "output_type": "display_data"
    }
   ],
   "source": [
    "df_pm_emit_plot1 = df_pm_emit.copy()\n",
    "df_pm_emit_plot1 = df_pm_emit_plot1[df_pm_emit_plot1['CH4_count'] < 10**7]\n",
    "\n",
    "sns.scatterplot(x=df_pm_emit_plot1['CH4_sum'], y=df_pm_emit_plot1['PM25_mean_pred'])"
   ]
  },
  {
   "cell_type": "markdown",
   "metadata": {},
   "source": [
    "The correlation is not directly easy to see. Let's see below if fitting a linear regression with a lot of input (all the available data for gases), to predict the PM25_mean_pred would work to make an inference."
   ]
  },
  {
   "cell_type": "code",
   "execution_count": 260,
   "metadata": {},
   "outputs": [
    {
     "name": "stdout",
     "output_type": "stream",
     "text": [
      "                  0\n",
      "count  7.320000e+02\n",
      "mean   2.226173e+07\n",
      "std    4.591811e+07\n",
      "min    2.197910e+03\n",
      "25%    1.897110e+06\n",
      "50%    6.765579e+06\n",
      "75%    2.228594e+07\n",
      "max    7.443149e+08\n",
      "(732, 1)\n"
     ]
    }
   ],
   "source": [
    "co2eq_sum_cols = ['BIOCO2_sum', 'CH4_sum', 'N2O_sum', 'CO2_sum', 'SF6_sum','Other_Full_sum','PFC_sum','HFC_sum', 'Very_Short_sum', 'HFE_sum', 'NF3_sum', 'Other_sum']\n",
    "#co2eq_sum_cols = ['BIOCO2_sum', 'CH4_sum', 'N2O_sum', 'CO2_sum']\n",
    "\n",
    "test = pd.DataFrame(np.sum([df_pm_emit[colname] for colname in co2eq_sum_cols], axis=0))\n",
    "print(test.describe())\n",
    "print(test.shape)"
   ]
  },
  {
   "cell_type": "code",
   "execution_count": 261,
   "metadata": {},
   "outputs": [
    {
     "data": {
      "text/plain": [
       "<AxesSubplot:xlabel='total_sum', ylabel='PM25_mean_pred'>"
      ]
     },
     "execution_count": 261,
     "metadata": {},
     "output_type": "execute_result"
    },
    {
     "data": {
      "image/png": "[encoded data removed]",
      "text/plain": [
       "<Figure size 432x288 with 1 Axes>"
      ]
     },
     "metadata": {
      "needs_background": "light"
     },
     "output_type": "display_data"
    }
   ],
   "source": [
    "co2eq_sum_cols = ['BIOCO2_sum', 'CH4_sum', 'N2O_sum', 'CO2_sum', 'SF6_sum','Other_Full_sum','PFC_sum','HFC_sum', 'Very_Short_sum', 'HFE_sum', 'NF3_sum', 'Other_sum']\n",
    "\n",
    "df_pm_emit['total_sum'] = np.sum([df_pm_emit[colname] for colname in co2eq_sum_cols], axis=0)\n",
    "\n",
    "sns.scatterplot(x=df_pm_emit['total_sum'], y=df_pm_emit['PM25_mean_pred'])"
   ]
  },
  {
   "cell_type": "markdown",
   "metadata": {},
   "source": [
    "# Prediction Model"
   ]
  },
  {
   "cell_type": "markdown",
   "metadata": {},
   "source": [
    "## Train/Test Split"
   ]
  },
  {
   "cell_type": "code",
   "execution_count": 274,
   "metadata": {},
   "outputs": [
    {
     "name": "stdout",
     "output_type": "stream",
     "text": [
      "(549, 54) (183, 54)\n",
      "Index(['COUNTY_FIPS', 'PM25_max_pred', 'PM25_mean_pred', 'PM25_med_pred',\n",
      "       'PM25_pop_pred', 'BIOCO2_sum', 'BIOCO2_mean', 'BIOCO2_max',\n",
      "       'BIOCO2_count', 'CH4_sum', 'CH4_mean', 'CH4_max', 'CH4_count',\n",
      "       'N2O_sum', 'N2O_mean', 'N2O_max', 'N2O_count', 'CO2_sum', 'CO2_mean',\n",
      "       'CO2_max', 'CO2_count', 'SF6_sum', 'SF6_mean', 'SF6_max', 'SF6_count',\n",
      "       'Other_Full_sum', 'Other_Full_mean', 'Other_Full_max',\n",
      "       'Other_Full_count', 'PFC_sum', 'PFC_mean', 'PFC_max', 'PFC_count',\n",
      "       'HFC_sum', 'HFC_mean', 'HFC_max', 'HFC_count', 'Very_Short_sum',\n",
      "       'Very_Short_mean', 'Very_Short_max', 'Very_Short_count', 'HFE_sum',\n",
      "       'HFE_mean', 'HFE_max', 'HFE_count', 'NF3_sum', 'NF3_mean', 'NF3_max',\n",
      "       'NF3_count', 'Other_sum', 'Other_mean', 'Other_max', 'Other_count',\n",
      "       'total_sum'],\n",
      "      dtype='object')\n",
      "Index(['BIOCO2_sum', 'BIOCO2_mean', 'BIOCO2_max', 'BIOCO2_count', 'CH4_sum',\n",
      "       'CH4_mean', 'CH4_max', 'CH4_count', 'N2O_sum', 'N2O_mean', 'N2O_max',\n",
      "       'N2O_count', 'CO2_sum', 'CO2_mean', 'CO2_max', 'CO2_count', 'SF6_sum',\n",
      "       'SF6_mean', 'SF6_max', 'SF6_count', 'Other_Full_sum', 'Other_Full_mean',\n",
      "       'Other_Full_max', 'Other_Full_count', 'PFC_sum', 'PFC_mean', 'PFC_max',\n",
      "       'PFC_count', 'HFC_sum', 'HFC_mean', 'HFC_max', 'HFC_count',\n",
      "       'Very_Short_sum', 'Very_Short_mean', 'Very_Short_max',\n",
      "       'Very_Short_count', 'HFE_sum', 'HFE_mean', 'HFE_max', 'HFE_count',\n",
      "       'NF3_sum', 'NF3_mean', 'NF3_max', 'NF3_count', 'Other_sum',\n",
      "       'Other_mean', 'Other_max', 'Other_count', 'total_sum'],\n",
      "      dtype='object')\n"
     ]
    }
   ],
   "source": [
    "from sklearn.model_selection import train_test_split\n",
    "from sklearn.linear_model import LinearRegression\n",
    "from sklearn import preprocessing\n",
    "\n",
    "train, test = train_test_split(df_pm_emit, test_size=0.25, random_state=100)\n",
    "print(train.shape, test.shape)\n",
    "\n",
    "print(train.columns)\n",
    "\n",
    "X_columns = train.columns[5:]\n",
    "#X_columns = ['BIOCO2_sum', 'CH4_sum', 'N2O_sum', 'CO2_sum', 'SF6_sum','Other_Full_sum','PFC_sum','HFC_sum', 'Very_Short_sum', 'HFE_sum', 'NF3_sum', 'Other_sum', 'total_sum']\n",
    "print(X_columns)\n",
    "Y_columns = ['PM25_mean_pred']\n",
    "X_train = train.loc[:,X_columns]\n",
    "X_test = test.loc[:,X_columns]\n",
    "Y_train = train.loc[:,Y_columns]\n",
    "Y_test = test.loc[:,Y_columns]"
   ]
  },
  {
   "cell_type": "markdown",
   "metadata": {},
   "source": [
    "## Scaling the data"
   ]
  },
  {
   "cell_type": "code",
   "execution_count": 275,
   "metadata": {},
   "outputs": [],
   "source": [
    "scaler = preprocessing.StandardScaler().fit(X_train)\n",
    "X_train_scaled = scaler.transform(X_train)\n",
    "X_test_scaled = scaler.transform(X_test)"
   ]
  },
  {
   "cell_type": "markdown",
   "metadata": {},
   "source": [
    "## Fitting the model"
   ]
  },
  {
   "cell_type": "code",
   "execution_count": 276,
   "metadata": {},
   "outputs": [
    {
     "name": "stdout",
     "output_type": "stream",
     "text": [
      "Training accuracy 0.17505977030912523\n",
      "Testing accuracy -6.1192557991192915\n"
     ]
    }
   ],
   "source": [
    "model = LinearRegression()\n",
    "model.fit(X_train_scaled, Y_train)\n",
    "print('Training accuracy', model.score(X_train_scaled, Y_train))\n",
    "print('Testing accuracy', model.score(X_test_scaled, Y_test))"
   ]
  },
  {
   "cell_type": "markdown",
   "metadata": {},
   "source": [
    "The prediction doesn't work, as the correlation is not strong enough. We will consider other potential sources for PM2.5 pollution, as the traffic volume."
   ]
  }
 ],
 "metadata": {
  "interpreter": {
   "hash": "aee8b7b246df8f9039afb4144a1f6fd8d2ca17a180786b69acc140d282b71a49"
  },
  "kernelspec": {
   "display_name": "Python 3.9.12 64-bit",
   "language": "python",
   "name": "python3"
  },
  "language_info": {
   "codemirror_mode": {
    "name": "ipython",
    "version": 3
   },
   "file_extension": ".py",
   "mimetype": "text/x-python",
   "name": "python",
   "nbconvert_exporter": "python",
   "pygments_lexer": "ipython3",
   "version": "3.9.12"
  },
  "orig_nbformat": 4
 },
 "nbformat": 4,
 "nbformat_minor": 2
}
